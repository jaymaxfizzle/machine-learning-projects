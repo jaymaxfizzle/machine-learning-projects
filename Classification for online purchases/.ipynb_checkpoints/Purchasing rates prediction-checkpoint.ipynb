{
 "cells": [
  {
   "cell_type": "markdown",
   "metadata": {
    "id": "W8oN-qJnKGXw"
   },
   "source": [
    "## **PREDICTING CONVERSION RATES** - Think Green Supplies\n",
    "\n",
    "Think Green Supplies, sells various merchandise to businesses & consumers via one sales channel, our ecommerce store (website). Using obfuscated Google Analytics data on each visitor session, you will build a model that predicts whether each session will result in the visitor performing an action to add an item to the cart.\n",
    "\n",
    "Goal: To predict for each visitor session, whether it will result in addedToCart (1) or not (0).\n",
    "\n",
    "**DATA SCHEMA**\n",
    "\n",
    "• fullVisitorId: The unique visitor ID. \n",
    "\n",
    "• visitStartTime: The timestamp (expressed as POSIX time). \n",
    "\n",
    "• date: The date of the session. \n",
    "\n",
    "• deviceCategory: The type of device (Mobile, Tablet, Desktop). \n",
    "\n",
    "• isMobile: If the user is on a mobile device, this value is true, otherwise false. \n",
    "\n",
    "• operatingSystem: The operating system of the device (e.g., \"Macintosh\" or \"Windows\"). \n",
    "\n",
    "• browser: The browser used (e.g., \"Chrome\" or \"Firefox\"). \n",
    "\n",
    "• country: The country from which sessions originated, based on IP address. \n",
    "\n",
    "• city: Users' city, derived from their IP addresses or Geographical IDs\n",
    "\n",
    "• trafficSource: The source of the traffic source. Could be the name of the search engine, the referring hostname, or a value of the utm_source URL parameter. \n",
    "\n",
    "• trafficMedium: The medium of the traffic source. Could be \"organic\", \"cpc\", \"referral\", or the value of the utm_medium URL parameter. \n",
    "\n",
    "• trafficCampaign: The campaign value. Usually set by the utm_campaign URL parameter. \n",
    "\n",
    "• isFirstVisit: 1 if this is the first visit made by the visitor, otherwise 0. \n",
    "\n",
    "• isBounce: 1 if the visitor went to only one webpage and did not come back, otherwise 0. \n",
    "\n",
    "• totalVisits: The total number of visits by the visitor across sessions. \n",
    "\n",
    "• totalHits: The total number of interactions across sessions. \n",
    "\n",
    "• totalPageviews: The total number of page views across sessions. \n",
    "\n",
    "• totalTimeOnSite: The total time on site. \n",
    "\n",
    "• totalTransactions: The total number of interactions across sessions. \n",
    "\n",
    "• productPagesViewed: The number of product pages viewed in the session. \n",
    "\n",
    "• addedToCart: If the visitor added an item to the cart or made further downstream actions (checkout, transaction), otherwise 0 (if the visitor only browsed but never added an item to the cart).\n",
    "\n"
   ]
  },
  {
   "cell_type": "code",
   "execution_count": null,
   "metadata": {
    "colab": {
     "base_uri": "https://localhost:8080/"
    },
    "executionInfo": {
     "elapsed": 34448,
     "status": "ok",
     "timestamp": 1608098323344,
     "user": {
      "displayName": "Maxwell Boafo",
      "photoUrl": "https://lh3.googleusercontent.com/a-/AOh14GjFVOcS-jtWoe8CJWMEz5Y71xRW550Mi7YtwlDijw=s64",
      "userId": "05496059639288395459"
     },
     "user_tz": -180
    },
    "id": "aOFnb5sQo6NA",
    "outputId": "b907e787-8fde-4e64-c868-a24cf72e585b"
   },
   "outputs": [
    {
     "name": "stdout",
     "output_type": "stream",
     "text": [
      "Mounted at /content/drive\n"
     ]
    }
   ],
   "source": [
    "from google.colab import drive\n",
    "drive.mount('/content/drive')"
   ]
  },
  {
   "cell_type": "code",
   "execution_count": null,
   "metadata": {
    "colab": {
     "base_uri": "https://localhost:8080/"
    },
    "executionInfo": {
     "elapsed": 1089,
     "status": "ok",
     "timestamp": 1608120173683,
     "user": {
      "displayName": "Maxwell Boafo",
      "photoUrl": "https://lh3.googleusercontent.com/a-/AOh14GjFVOcS-jtWoe8CJWMEz5Y71xRW550Mi7YtwlDijw=s64",
      "userId": "05496059639288395459"
     },
     "user_tz": -180
    },
    "id": "FD3wSaGzqINM",
    "outputId": "2c9ec7fe-d390-428d-93be-20c31e585a2a"
   },
   "outputs": [
    {
     "name": "stdout",
     "output_type": "stream",
     "text": [
      "/content/drive/MyDrive\n"
     ]
    }
   ],
   "source": [
    "cd /content/drive/MyDrive/"
   ]
  },
  {
   "cell_type": "markdown",
   "metadata": {
    "id": "6Czz4QayB9n7"
   },
   "source": [
    "# Reading the datasets"
   ]
  },
  {
   "cell_type": "code",
   "execution_count": null,
   "metadata": {
    "colab": {
     "base_uri": "https://localhost:8080/"
    },
    "executionInfo": {
     "elapsed": 4693,
     "status": "ok",
     "timestamp": 1608120179941,
     "user": {
      "displayName": "Maxwell Boafo",
      "photoUrl": "https://lh3.googleusercontent.com/a-/AOh14GjFVOcS-jtWoe8CJWMEz5Y71xRW550Mi7YtwlDijw=s64",
      "userId": "05496059639288395459"
     },
     "user_tz": -180
    },
    "id": "zyoye5XPJPu1",
    "outputId": "5f890d9c-d272-4a99-8a9a-9611c54ad478"
   },
   "outputs": [
    {
     "name": "stderr",
     "output_type": "stream",
     "text": [
      "/usr/local/lib/python3.6/dist-packages/IPython/core/interactiveshell.py:2718: DtypeWarning: Columns (0) have mixed types.Specify dtype option on import or set low_memory=False.\n",
      "  interactivity=interactivity, compiler=compiler, result=result)\n"
     ]
    }
   ],
   "source": [
    "\n",
    "\n",
    "import pandas as pd\n",
    "import numpy as np\n",
    "import seaborn as sns\n",
    "import matplotlib.pyplot as plt\n",
    "\n",
    "\n",
    "train_data = pd.read_csv('greensupplies_training_data.csv')\n",
    "test_data = pd.read_csv('greensupplies_test_data.csv')"
   ]
  },
  {
   "cell_type": "code",
   "execution_count": null,
   "metadata": {
    "colab": {
     "base_uri": "https://localhost:8080/",
     "height": 926
    },
    "executionInfo": {
     "elapsed": 1259,
     "status": "ok",
     "timestamp": 1608120182314,
     "user": {
      "displayName": "Maxwell Boafo",
      "photoUrl": "https://lh3.googleusercontent.com/a-/AOh14GjFVOcS-jtWoe8CJWMEz5Y71xRW550Mi7YtwlDijw=s64",
      "userId": "05496059639288395459"
     },
     "user_tz": -180
    },
    "id": "b8vAoFjUVUoG",
    "outputId": "c734afaf-c128-451e-9a81-1b9d9e6bbbe4"
   },
   "outputs": [
    {
     "data": {
      "text/html": [
       "<div>\n",
       "<style scoped>\n",
       "    .dataframe tbody tr th:only-of-type {\n",
       "        vertical-align: middle;\n",
       "    }\n",
       "\n",
       "    .dataframe tbody tr th {\n",
       "        vertical-align: top;\n",
       "    }\n",
       "\n",
       "    .dataframe thead th {\n",
       "        text-align: right;\n",
       "    }\n",
       "</style>\n",
       "<table border=\"1\" class=\"dataframe\">\n",
       "  <thead>\n",
       "    <tr style=\"text-align: right;\">\n",
       "      <th></th>\n",
       "      <th>fullVisitorId</th>\n",
       "      <th>visitStartTime</th>\n",
       "      <th>date</th>\n",
       "      <th>deviceCategory</th>\n",
       "      <th>isMobile</th>\n",
       "      <th>operatingSystem</th>\n",
       "      <th>browser</th>\n",
       "      <th>country</th>\n",
       "      <th>city</th>\n",
       "      <th>trafficSource</th>\n",
       "      <th>trafficMedium</th>\n",
       "      <th>trafficCampaign</th>\n",
       "      <th>isFirstVisit</th>\n",
       "      <th>totalVisits</th>\n",
       "      <th>totalHits</th>\n",
       "      <th>totalPageviews</th>\n",
       "      <th>totalTimeOnSite</th>\n",
       "      <th>productPagesViewed</th>\n",
       "      <th>addedToCart</th>\n",
       "    </tr>\n",
       "  </thead>\n",
       "  <tbody>\n",
       "    <tr>\n",
       "      <th>0</th>\n",
       "      <td>4214259466202417480</td>\n",
       "      <td>1476492957</td>\n",
       "      <td>2016-10-14 00:00:00 UTC</td>\n",
       "      <td>desktop</td>\n",
       "      <td>False</td>\n",
       "      <td>Windows</td>\n",
       "      <td>Internet Explorer</td>\n",
       "      <td>United States</td>\n",
       "      <td>not available in demo dataset</td>\n",
       "      <td>ask</td>\n",
       "      <td>organic</td>\n",
       "      <td>(not set)</td>\n",
       "      <td>0</td>\n",
       "      <td>1</td>\n",
       "      <td>2</td>\n",
       "      <td>2</td>\n",
       "      <td>16</td>\n",
       "      <td>0</td>\n",
       "      <td>0</td>\n",
       "    </tr>\n",
       "    <tr>\n",
       "      <th>1</th>\n",
       "      <td>3541738396641160713</td>\n",
       "      <td>1493611205</td>\n",
       "      <td>2017-04-30 00:00:00 UTC</td>\n",
       "      <td>desktop</td>\n",
       "      <td>False</td>\n",
       "      <td>Windows</td>\n",
       "      <td>Chrome</td>\n",
       "      <td>United States</td>\n",
       "      <td>not available in demo dataset</td>\n",
       "      <td>ask</td>\n",
       "      <td>organic</td>\n",
       "      <td>(not set)</td>\n",
       "      <td>0</td>\n",
       "      <td>1</td>\n",
       "      <td>1</td>\n",
       "      <td>1</td>\n",
       "      <td>0</td>\n",
       "      <td>0</td>\n",
       "      <td>0</td>\n",
       "    </tr>\n",
       "    <tr>\n",
       "      <th>2</th>\n",
       "      <td>8276557623242379934</td>\n",
       "      <td>1490071147</td>\n",
       "      <td>2017-03-20 00:00:00 UTC</td>\n",
       "      <td>desktop</td>\n",
       "      <td>False</td>\n",
       "      <td>Windows</td>\n",
       "      <td>Chrome</td>\n",
       "      <td>Australia</td>\n",
       "      <td>Brisbane</td>\n",
       "      <td>ask</td>\n",
       "      <td>organic</td>\n",
       "      <td>(not set)</td>\n",
       "      <td>0</td>\n",
       "      <td>1</td>\n",
       "      <td>2</td>\n",
       "      <td>2</td>\n",
       "      <td>16</td>\n",
       "      <td>0</td>\n",
       "      <td>0</td>\n",
       "    </tr>\n",
       "    <tr>\n",
       "      <th>3</th>\n",
       "      <td>5855313117666192014</td>\n",
       "      <td>1491048053</td>\n",
       "      <td>2017-04-01 00:00:00 UTC</td>\n",
       "      <td>desktop</td>\n",
       "      <td>False</td>\n",
       "      <td>Windows</td>\n",
       "      <td>Chrome</td>\n",
       "      <td>Australia</td>\n",
       "      <td>Sydney</td>\n",
       "      <td>ask</td>\n",
       "      <td>organic</td>\n",
       "      <td>(not set)</td>\n",
       "      <td>0</td>\n",
       "      <td>1</td>\n",
       "      <td>1</td>\n",
       "      <td>1</td>\n",
       "      <td>0</td>\n",
       "      <td>0</td>\n",
       "      <td>0</td>\n",
       "    </tr>\n",
       "    <tr>\n",
       "      <th>4</th>\n",
       "      <td>2619633492044211273</td>\n",
       "      <td>1495292376</td>\n",
       "      <td>2017-05-20 00:00:00 UTC</td>\n",
       "      <td>desktop</td>\n",
       "      <td>False</td>\n",
       "      <td>Windows</td>\n",
       "      <td>Chrome</td>\n",
       "      <td>United States</td>\n",
       "      <td>not available in demo dataset</td>\n",
       "      <td>ask</td>\n",
       "      <td>organic</td>\n",
       "      <td>(not set)</td>\n",
       "      <td>0</td>\n",
       "      <td>1</td>\n",
       "      <td>15</td>\n",
       "      <td>12</td>\n",
       "      <td>326</td>\n",
       "      <td>1</td>\n",
       "      <td>1</td>\n",
       "    </tr>\n",
       "    <tr>\n",
       "      <th>...</th>\n",
       "      <td>...</td>\n",
       "      <td>...</td>\n",
       "      <td>...</td>\n",
       "      <td>...</td>\n",
       "      <td>...</td>\n",
       "      <td>...</td>\n",
       "      <td>...</td>\n",
       "      <td>...</td>\n",
       "      <td>...</td>\n",
       "      <td>...</td>\n",
       "      <td>...</td>\n",
       "      <td>...</td>\n",
       "      <td>...</td>\n",
       "      <td>...</td>\n",
       "      <td>...</td>\n",
       "      <td>...</td>\n",
       "      <td>...</td>\n",
       "      <td>...</td>\n",
       "      <td>...</td>\n",
       "    </tr>\n",
       "    <tr>\n",
       "      <th>765702</th>\n",
       "      <td>112313025021493147</td>\n",
       "      <td>1477626950</td>\n",
       "      <td>2016-10-27 00:00:00 UTC</td>\n",
       "      <td>desktop</td>\n",
       "      <td>False</td>\n",
       "      <td>Windows</td>\n",
       "      <td>Chrome</td>\n",
       "      <td>United States</td>\n",
       "      <td>not available in demo dataset</td>\n",
       "      <td>uweoconnect.extn.washington.edu</td>\n",
       "      <td>referral</td>\n",
       "      <td>(not set)</td>\n",
       "      <td>1</td>\n",
       "      <td>1</td>\n",
       "      <td>1</td>\n",
       "      <td>1</td>\n",
       "      <td>0</td>\n",
       "      <td>0</td>\n",
       "      <td>0</td>\n",
       "    </tr>\n",
       "    <tr>\n",
       "      <th>765703</th>\n",
       "      <td>5128790713477036814</td>\n",
       "      <td>1476843645</td>\n",
       "      <td>2016-10-18 00:00:00 UTC</td>\n",
       "      <td>desktop</td>\n",
       "      <td>False</td>\n",
       "      <td>Macintosh</td>\n",
       "      <td>Chrome</td>\n",
       "      <td>United States</td>\n",
       "      <td>Seattle</td>\n",
       "      <td>uweoconnect.extn.washington.edu</td>\n",
       "      <td>referral</td>\n",
       "      <td>(not set)</td>\n",
       "      <td>1</td>\n",
       "      <td>1</td>\n",
       "      <td>1</td>\n",
       "      <td>1</td>\n",
       "      <td>0</td>\n",
       "      <td>0</td>\n",
       "      <td>0</td>\n",
       "    </tr>\n",
       "    <tr>\n",
       "      <th>765704</th>\n",
       "      <td>4958625381188085654</td>\n",
       "      <td>1481077912</td>\n",
       "      <td>2016-12-06 00:00:00 UTC</td>\n",
       "      <td>desktop</td>\n",
       "      <td>False</td>\n",
       "      <td>Windows</td>\n",
       "      <td>Chrome</td>\n",
       "      <td>United States</td>\n",
       "      <td>Seattle</td>\n",
       "      <td>uweoconnect.extn.washington.edu</td>\n",
       "      <td>referral</td>\n",
       "      <td>(not set)</td>\n",
       "      <td>1</td>\n",
       "      <td>1</td>\n",
       "      <td>1</td>\n",
       "      <td>1</td>\n",
       "      <td>0</td>\n",
       "      <td>0</td>\n",
       "      <td>0</td>\n",
       "    </tr>\n",
       "    <tr>\n",
       "      <th>765705</th>\n",
       "      <td>5202168656086679244</td>\n",
       "      <td>1476843631</td>\n",
       "      <td>2016-10-18 00:00:00 UTC</td>\n",
       "      <td>desktop</td>\n",
       "      <td>False</td>\n",
       "      <td>Macintosh</td>\n",
       "      <td>Chrome</td>\n",
       "      <td>United States</td>\n",
       "      <td>San Francisco</td>\n",
       "      <td>uweoconnect.extn.washington.edu</td>\n",
       "      <td>referral</td>\n",
       "      <td>(not set)</td>\n",
       "      <td>1</td>\n",
       "      <td>1</td>\n",
       "      <td>2</td>\n",
       "      <td>2</td>\n",
       "      <td>438</td>\n",
       "      <td>0</td>\n",
       "      <td>0</td>\n",
       "    </tr>\n",
       "    <tr>\n",
       "      <th>765706</th>\n",
       "      <td>7240535066211839362</td>\n",
       "      <td>1476843979</td>\n",
       "      <td>2016-10-18 00:00:00 UTC</td>\n",
       "      <td>desktop</td>\n",
       "      <td>False</td>\n",
       "      <td>Windows</td>\n",
       "      <td>Chrome</td>\n",
       "      <td>United States</td>\n",
       "      <td>San Francisco</td>\n",
       "      <td>uweoconnect.extn.washington.edu</td>\n",
       "      <td>referral</td>\n",
       "      <td>(not set)</td>\n",
       "      <td>1</td>\n",
       "      <td>1</td>\n",
       "      <td>1</td>\n",
       "      <td>1</td>\n",
       "      <td>0</td>\n",
       "      <td>0</td>\n",
       "      <td>0</td>\n",
       "    </tr>\n",
       "  </tbody>\n",
       "</table>\n",
       "<p>765707 rows × 19 columns</p>\n",
       "</div>"
      ],
      "text/plain": [
       "              fullVisitorId  visitStartTime  ... productPagesViewed addedToCart\n",
       "0       4214259466202417480      1476492957  ...                  0           0\n",
       "1       3541738396641160713      1493611205  ...                  0           0\n",
       "2       8276557623242379934      1490071147  ...                  0           0\n",
       "3       5855313117666192014      1491048053  ...                  0           0\n",
       "4       2619633492044211273      1495292376  ...                  1           1\n",
       "...                     ...             ...  ...                ...         ...\n",
       "765702   112313025021493147      1477626950  ...                  0           0\n",
       "765703  5128790713477036814      1476843645  ...                  0           0\n",
       "765704  4958625381188085654      1481077912  ...                  0           0\n",
       "765705  5202168656086679244      1476843631  ...                  0           0\n",
       "765706  7240535066211839362      1476843979  ...                  0           0\n",
       "\n",
       "[765707 rows x 19 columns]"
      ]
     },
     "execution_count": 3,
     "metadata": {
      "tags": []
     },
     "output_type": "execute_result"
    }
   ],
   "source": [
    "train_data"
   ]
  },
  {
   "cell_type": "code",
   "execution_count": null,
   "metadata": {
    "colab": {
     "base_uri": "https://localhost:8080/",
     "height": 467
    },
    "executionInfo": {
     "elapsed": 931,
     "status": "ok",
     "timestamp": 1608120186817,
     "user": {
      "displayName": "Maxwell Boafo",
      "photoUrl": "https://lh3.googleusercontent.com/a-/AOh14GjFVOcS-jtWoe8CJWMEz5Y71xRW550Mi7YtwlDijw=s64",
      "userId": "05496059639288395459"
     },
     "user_tz": -180
    },
    "id": "yOQ7o-2pv5EE",
    "outputId": "87b0e3f4-b1ae-4498-d17f-1100b0cc887f"
   },
   "outputs": [
    {
     "data": {
      "text/html": [
       "<div>\n",
       "<style scoped>\n",
       "    .dataframe tbody tr th:only-of-type {\n",
       "        vertical-align: middle;\n",
       "    }\n",
       "\n",
       "    .dataframe tbody tr th {\n",
       "        vertical-align: top;\n",
       "    }\n",
       "\n",
       "    .dataframe thead th {\n",
       "        text-align: right;\n",
       "    }\n",
       "</style>\n",
       "<table border=\"1\" class=\"dataframe\">\n",
       "  <thead>\n",
       "    <tr style=\"text-align: right;\">\n",
       "      <th></th>\n",
       "      <th>fullVisitorId</th>\n",
       "      <th>visitStartTime</th>\n",
       "      <th>date</th>\n",
       "      <th>deviceCategory</th>\n",
       "      <th>isMobile</th>\n",
       "      <th>operatingSystem</th>\n",
       "      <th>browser</th>\n",
       "      <th>country</th>\n",
       "      <th>city</th>\n",
       "      <th>trafficSource</th>\n",
       "      <th>trafficMedium</th>\n",
       "      <th>trafficCampaign</th>\n",
       "      <th>isFirstVisit</th>\n",
       "      <th>totalVisits</th>\n",
       "      <th>totalHits</th>\n",
       "      <th>totalPageviews</th>\n",
       "      <th>totalTimeOnSite</th>\n",
       "      <th>productPagesViewed</th>\n",
       "    </tr>\n",
       "  </thead>\n",
       "  <tbody>\n",
       "    <tr>\n",
       "      <th>0</th>\n",
       "      <td>788269418281542126</td>\n",
       "      <td>1496681584</td>\n",
       "      <td>2017-06-05 00:00:00 UTC</td>\n",
       "      <td>tablet</td>\n",
       "      <td>True</td>\n",
       "      <td>iOS</td>\n",
       "      <td>Chrome</td>\n",
       "      <td>United States</td>\n",
       "      <td>Mountain View</td>\n",
       "      <td>ask</td>\n",
       "      <td>organic</td>\n",
       "      <td>(not set)</td>\n",
       "      <td>1</td>\n",
       "      <td>1</td>\n",
       "      <td>4</td>\n",
       "      <td>3</td>\n",
       "      <td>85</td>\n",
       "      <td>1</td>\n",
       "    </tr>\n",
       "    <tr>\n",
       "      <th>1</th>\n",
       "      <td>4029010814852735558</td>\n",
       "      <td>1500581209</td>\n",
       "      <td>2017-07-20 00:00:00 UTC</td>\n",
       "      <td>mobile</td>\n",
       "      <td>True</td>\n",
       "      <td>iOS</td>\n",
       "      <td>Safari</td>\n",
       "      <td>Netherlands</td>\n",
       "      <td>not available in demo dataset</td>\n",
       "      <td>ask</td>\n",
       "      <td>organic</td>\n",
       "      <td>(not set)</td>\n",
       "      <td>1</td>\n",
       "      <td>1</td>\n",
       "      <td>1</td>\n",
       "      <td>1</td>\n",
       "      <td>0</td>\n",
       "      <td>0</td>\n",
       "    </tr>\n",
       "    <tr>\n",
       "      <th>2</th>\n",
       "      <td>1290376851612846048</td>\n",
       "      <td>1500783647</td>\n",
       "      <td>2017-07-22 00:00:00 UTC</td>\n",
       "      <td>mobile</td>\n",
       "      <td>True</td>\n",
       "      <td>iOS</td>\n",
       "      <td>Safari</td>\n",
       "      <td>United States</td>\n",
       "      <td>San Francisco</td>\n",
       "      <td>dfa</td>\n",
       "      <td>cpm</td>\n",
       "      <td>(not set)</td>\n",
       "      <td>0</td>\n",
       "      <td>1</td>\n",
       "      <td>1</td>\n",
       "      <td>1</td>\n",
       "      <td>0</td>\n",
       "      <td>0</td>\n",
       "    </tr>\n",
       "    <tr>\n",
       "      <th>3</th>\n",
       "      <td>5426533588897404514</td>\n",
       "      <td>1496444163</td>\n",
       "      <td>2017-06-02 00:00:00 UTC</td>\n",
       "      <td>mobile</td>\n",
       "      <td>True</td>\n",
       "      <td>iOS</td>\n",
       "      <td>Safari</td>\n",
       "      <td>United States</td>\n",
       "      <td>Houston</td>\n",
       "      <td>dfa</td>\n",
       "      <td>cpm</td>\n",
       "      <td>(not set)</td>\n",
       "      <td>0</td>\n",
       "      <td>1</td>\n",
       "      <td>2</td>\n",
       "      <td>2</td>\n",
       "      <td>9</td>\n",
       "      <td>0</td>\n",
       "    </tr>\n",
       "    <tr>\n",
       "      <th>4</th>\n",
       "      <td>2372356979576453844</td>\n",
       "      <td>1501119781</td>\n",
       "      <td>2017-07-26 00:00:00 UTC</td>\n",
       "      <td>mobile</td>\n",
       "      <td>True</td>\n",
       "      <td>iOS</td>\n",
       "      <td>Safari</td>\n",
       "      <td>United States</td>\n",
       "      <td>not available in demo dataset</td>\n",
       "      <td>dfa</td>\n",
       "      <td>cpm</td>\n",
       "      <td>(not set)</td>\n",
       "      <td>0</td>\n",
       "      <td>1</td>\n",
       "      <td>10</td>\n",
       "      <td>10</td>\n",
       "      <td>251</td>\n",
       "      <td>0</td>\n",
       "    </tr>\n",
       "  </tbody>\n",
       "</table>\n",
       "</div>"
      ],
      "text/plain": [
       "         fullVisitorId  visitStartTime  ... totalTimeOnSite productPagesViewed\n",
       "0   788269418281542126      1496681584  ...              85                  1\n",
       "1  4029010814852735558      1500581209  ...               0                  0\n",
       "2  1290376851612846048      1500783647  ...               0                  0\n",
       "3  5426533588897404514      1496444163  ...               9                  0\n",
       "4  2372356979576453844      1501119781  ...             251                  0\n",
       "\n",
       "[5 rows x 18 columns]"
      ]
     },
     "execution_count": 4,
     "metadata": {
      "tags": []
     },
     "output_type": "execute_result"
    }
   ],
   "source": [
    "test_data.head()"
   ]
  },
  {
   "cell_type": "code",
   "execution_count": null,
   "metadata": {
    "colab": {
     "base_uri": "https://localhost:8080/",
     "height": 284
    },
    "executionInfo": {
     "elapsed": 736,
     "status": "ok",
     "timestamp": 1608120190099,
     "user": {
      "displayName": "Maxwell Boafo",
      "photoUrl": "https://lh3.googleusercontent.com/a-/AOh14GjFVOcS-jtWoe8CJWMEz5Y71xRW550Mi7YtwlDijw=s64",
      "userId": "05496059639288395459"
     },
     "user_tz": -180
    },
    "id": "5yFkLbQ-JPjt",
    "outputId": "0433e413-a506-4cbf-b946-1df4d07d9003"
   },
   "outputs": [
    {
     "data": {
      "text/html": [
       "<div>\n",
       "<style scoped>\n",
       "    .dataframe tbody tr th:only-of-type {\n",
       "        vertical-align: middle;\n",
       "    }\n",
       "\n",
       "    .dataframe tbody tr th {\n",
       "        vertical-align: top;\n",
       "    }\n",
       "\n",
       "    .dataframe thead th {\n",
       "        text-align: right;\n",
       "    }\n",
       "</style>\n",
       "<table border=\"1\" class=\"dataframe\">\n",
       "  <thead>\n",
       "    <tr style=\"text-align: right;\">\n",
       "      <th></th>\n",
       "      <th>count</th>\n",
       "      <th>mean</th>\n",
       "      <th>std</th>\n",
       "      <th>min</th>\n",
       "      <th>25%</th>\n",
       "      <th>50%</th>\n",
       "      <th>75%</th>\n",
       "      <th>max</th>\n",
       "    </tr>\n",
       "  </thead>\n",
       "  <tbody>\n",
       "    <tr>\n",
       "      <th>visitStartTime</th>\n",
       "      <td>765707.0</td>\n",
       "      <td>1.482476e+09</td>\n",
       "      <td>7.325498e+06</td>\n",
       "      <td>1.470035e+09</td>\n",
       "      <td>1.476733e+09</td>\n",
       "      <td>1.481222e+09</td>\n",
       "      <td>1.488812e+09</td>\n",
       "      <td>1.496300e+09</td>\n",
       "    </tr>\n",
       "    <tr>\n",
       "      <th>isFirstVisit</th>\n",
       "      <td>765707.0</td>\n",
       "      <td>7.812962e-01</td>\n",
       "      <td>4.133674e-01</td>\n",
       "      <td>0.000000e+00</td>\n",
       "      <td>1.000000e+00</td>\n",
       "      <td>1.000000e+00</td>\n",
       "      <td>1.000000e+00</td>\n",
       "      <td>1.000000e+00</td>\n",
       "    </tr>\n",
       "    <tr>\n",
       "      <th>totalVisits</th>\n",
       "      <td>765707.0</td>\n",
       "      <td>1.000000e+00</td>\n",
       "      <td>0.000000e+00</td>\n",
       "      <td>1.000000e+00</td>\n",
       "      <td>1.000000e+00</td>\n",
       "      <td>1.000000e+00</td>\n",
       "      <td>1.000000e+00</td>\n",
       "      <td>1.000000e+00</td>\n",
       "    </tr>\n",
       "    <tr>\n",
       "      <th>totalHits</th>\n",
       "      <td>765707.0</td>\n",
       "      <td>4.625048e+00</td>\n",
       "      <td>9.840340e+00</td>\n",
       "      <td>1.000000e+00</td>\n",
       "      <td>1.000000e+00</td>\n",
       "      <td>2.000000e+00</td>\n",
       "      <td>4.000000e+00</td>\n",
       "      <td>5.000000e+02</td>\n",
       "    </tr>\n",
       "    <tr>\n",
       "      <th>totalPageviews</th>\n",
       "      <td>765707.0</td>\n",
       "      <td>3.870623e+00</td>\n",
       "      <td>7.175096e+00</td>\n",
       "      <td>0.000000e+00</td>\n",
       "      <td>1.000000e+00</td>\n",
       "      <td>1.000000e+00</td>\n",
       "      <td>4.000000e+00</td>\n",
       "      <td>4.690000e+02</td>\n",
       "    </tr>\n",
       "    <tr>\n",
       "      <th>totalTimeOnSite</th>\n",
       "      <td>765707.0</td>\n",
       "      <td>1.294440e+02</td>\n",
       "      <td>3.648859e+02</td>\n",
       "      <td>0.000000e+00</td>\n",
       "      <td>0.000000e+00</td>\n",
       "      <td>2.000000e+00</td>\n",
       "      <td>8.200000e+01</td>\n",
       "      <td>1.901700e+04</td>\n",
       "    </tr>\n",
       "    <tr>\n",
       "      <th>productPagesViewed</th>\n",
       "      <td>765707.0</td>\n",
       "      <td>4.056591e-01</td>\n",
       "      <td>1.759452e+00</td>\n",
       "      <td>0.000000e+00</td>\n",
       "      <td>0.000000e+00</td>\n",
       "      <td>0.000000e+00</td>\n",
       "      <td>0.000000e+00</td>\n",
       "      <td>1.680000e+02</td>\n",
       "    </tr>\n",
       "    <tr>\n",
       "      <th>addedToCart</th>\n",
       "      <td>765707.0</td>\n",
       "      <td>5.429361e-02</td>\n",
       "      <td>2.265963e-01</td>\n",
       "      <td>0.000000e+00</td>\n",
       "      <td>0.000000e+00</td>\n",
       "      <td>0.000000e+00</td>\n",
       "      <td>0.000000e+00</td>\n",
       "      <td>1.000000e+00</td>\n",
       "    </tr>\n",
       "  </tbody>\n",
       "</table>\n",
       "</div>"
      ],
      "text/plain": [
       "                       count          mean  ...           75%           max\n",
       "visitStartTime      765707.0  1.482476e+09  ...  1.488812e+09  1.496300e+09\n",
       "isFirstVisit        765707.0  7.812962e-01  ...  1.000000e+00  1.000000e+00\n",
       "totalVisits         765707.0  1.000000e+00  ...  1.000000e+00  1.000000e+00\n",
       "totalHits           765707.0  4.625048e+00  ...  4.000000e+00  5.000000e+02\n",
       "totalPageviews      765707.0  3.870623e+00  ...  4.000000e+00  4.690000e+02\n",
       "totalTimeOnSite     765707.0  1.294440e+02  ...  8.200000e+01  1.901700e+04\n",
       "productPagesViewed  765707.0  4.056591e-01  ...  0.000000e+00  1.680000e+02\n",
       "addedToCart         765707.0  5.429361e-02  ...  0.000000e+00  1.000000e+00\n",
       "\n",
       "[8 rows x 8 columns]"
      ]
     },
     "execution_count": 5,
     "metadata": {
      "tags": []
     },
     "output_type": "execute_result"
    }
   ],
   "source": [
    "# Numerical features summary statistics\n",
    "\n",
    "train_data.describe().T"
   ]
  },
  {
   "cell_type": "code",
   "execution_count": null,
   "metadata": {
    "colab": {
     "base_uri": "https://localhost:8080/",
     "height": 284
    },
    "executionInfo": {
     "elapsed": 1830,
     "status": "ok",
     "timestamp": 1608120193572,
     "user": {
      "displayName": "Maxwell Boafo",
      "photoUrl": "https://lh3.googleusercontent.com/a-/AOh14GjFVOcS-jtWoe8CJWMEz5Y71xRW550Mi7YtwlDijw=s64",
      "userId": "05496059639288395459"
     },
     "user_tz": -180
    },
    "id": "Ej2gsB-jqvvQ",
    "outputId": "ab713685-64ef-4ed1-e6e3-8bb6c713e956"
   },
   "outputs": [
    {
     "data": {
      "text/html": [
       "<div>\n",
       "<style scoped>\n",
       "    .dataframe tbody tr th:only-of-type {\n",
       "        vertical-align: middle;\n",
       "    }\n",
       "\n",
       "    .dataframe tbody tr th {\n",
       "        vertical-align: top;\n",
       "    }\n",
       "\n",
       "    .dataframe thead th {\n",
       "        text-align: right;\n",
       "    }\n",
       "</style>\n",
       "<table border=\"1\" class=\"dataframe\">\n",
       "  <thead>\n",
       "    <tr style=\"text-align: right;\">\n",
       "      <th></th>\n",
       "      <th>count</th>\n",
       "      <th>unique</th>\n",
       "      <th>top</th>\n",
       "      <th>freq</th>\n",
       "    </tr>\n",
       "  </thead>\n",
       "  <tbody>\n",
       "    <tr>\n",
       "      <th>deviceCategory</th>\n",
       "      <td>765707</td>\n",
       "      <td>3</td>\n",
       "      <td>desktop</td>\n",
       "      <td>575126</td>\n",
       "    </tr>\n",
       "    <tr>\n",
       "      <th>isMobile</th>\n",
       "      <td>765707</td>\n",
       "      <td>2</td>\n",
       "      <td>False</td>\n",
       "      <td>575176</td>\n",
       "    </tr>\n",
       "    <tr>\n",
       "      <th>operatingSystem</th>\n",
       "      <td>765707</td>\n",
       "      <td>20</td>\n",
       "      <td>Windows</td>\n",
       "      <td>302872</td>\n",
       "    </tr>\n",
       "    <tr>\n",
       "      <th>browser</th>\n",
       "      <td>765707</td>\n",
       "      <td>50</td>\n",
       "      <td>Chrome</td>\n",
       "      <td>522729</td>\n",
       "    </tr>\n",
       "    <tr>\n",
       "      <th>country</th>\n",
       "      <td>765707</td>\n",
       "      <td>218</td>\n",
       "      <td>United States</td>\n",
       "      <td>300429</td>\n",
       "    </tr>\n",
       "    <tr>\n",
       "      <th>city</th>\n",
       "      <td>765707</td>\n",
       "      <td>618</td>\n",
       "      <td>not available in demo dataset</td>\n",
       "      <td>431385</td>\n",
       "    </tr>\n",
       "    <tr>\n",
       "      <th>trafficSource</th>\n",
       "      <td>765707</td>\n",
       "      <td>258</td>\n",
       "      <td>(direct)</td>\n",
       "      <td>311921</td>\n",
       "    </tr>\n",
       "    <tr>\n",
       "      <th>trafficMedium</th>\n",
       "      <td>765707</td>\n",
       "      <td>7</td>\n",
       "      <td>(none)</td>\n",
       "      <td>311920</td>\n",
       "    </tr>\n",
       "  </tbody>\n",
       "</table>\n",
       "</div>"
      ],
      "text/plain": [
       "                  count unique                            top    freq\n",
       "deviceCategory   765707      3                        desktop  575126\n",
       "isMobile         765707      2                          False  575176\n",
       "operatingSystem  765707     20                        Windows  302872\n",
       "browser          765707     50                         Chrome  522729\n",
       "country          765707    218                  United States  300429\n",
       "city             765707    618  not available in demo dataset  431385\n",
       "trafficSource    765707    258                       (direct)  311921\n",
       "trafficMedium    765707      7                         (none)  311920"
      ]
     },
     "execution_count": 6,
     "metadata": {
      "tags": []
     },
     "output_type": "execute_result"
    }
   ],
   "source": [
    "# Non numerical features summary statistics\n",
    "\n",
    "train_data[['deviceCategory', 'isMobile', 'operatingSystem', 'browser', 'country', 'city', 'trafficSource', 'trafficMedium']].describe().T "
   ]
  },
  {
   "cell_type": "markdown",
   "metadata": {
    "id": "GvikExLJcDWE"
   },
   "source": [
    "# Feature selection for non numerical and numerical data and data analysis"
   ]
  },
  {
   "cell_type": "markdown",
   "metadata": {
    "id": "6vt3upNrHaeg"
   },
   "source": [
    "For the non numerical data columns the operating system, and browser data are removed from the analysis because purchases will be made regardless of the information. The city information has the majority of it information missing and would not contribute to the analysis as well. The trafficSource data needs more source information and can be replaced by the trafficMedium data. The deviceCategory data also includes information from the isMobile column.   "
   ]
  },
  {
   "cell_type": "code",
   "execution_count": null,
   "metadata": {
    "colab": {
     "base_uri": "https://localhost:8080/"
    },
    "executionInfo": {
     "elapsed": 1800,
     "status": "ok",
     "timestamp": 1608120315475,
     "user": {
      "displayName": "Maxwell Boafo",
      "photoUrl": "https://lh3.googleusercontent.com/a-/AOh14GjFVOcS-jtWoe8CJWMEz5Y71xRW550Mi7YtwlDijw=s64",
      "userId": "05496059639288395459"
     },
     "user_tz": -180
    },
    "id": "6Cu1fW7G-IDn",
    "outputId": "1ab78d1d-5880-436f-f11c-023db8f0292e"
   },
   "outputs": [
    {
     "data": {
      "text/plain": [
       "0"
      ]
     },
     "execution_count": 7,
     "metadata": {
      "tags": []
     },
     "output_type": "execute_result"
    }
   ],
   "source": [
    "train_data.duplicated().sum()"
   ]
  },
  {
   "cell_type": "code",
   "execution_count": null,
   "metadata": {
    "colab": {
     "base_uri": "https://localhost:8080/"
    },
    "executionInfo": {
     "elapsed": 736,
     "status": "ok",
     "timestamp": 1608120317483,
     "user": {
      "displayName": "Maxwell Boafo",
      "photoUrl": "https://lh3.googleusercontent.com/a-/AOh14GjFVOcS-jtWoe8CJWMEz5Y71xRW550Mi7YtwlDijw=s64",
      "userId": "05496059639288395459"
     },
     "user_tz": -180
    },
    "id": "EFFXX92eif_U",
    "outputId": "ba02b0eb-df30-415f-f48f-e9e06eb5f76e"
   },
   "outputs": [
    {
     "data": {
      "text/plain": [
       "0"
      ]
     },
     "execution_count": 8,
     "metadata": {
      "tags": []
     },
     "output_type": "execute_result"
    }
   ],
   "source": [
    "test_data.duplicated().sum()"
   ]
  },
  {
   "cell_type": "code",
   "execution_count": null,
   "metadata": {
    "id": "r-g46q0kwfpL"
   },
   "outputs": [],
   "source": [
    "train_data.dropna(inplace=True)"
   ]
  },
  {
   "cell_type": "code",
   "execution_count": null,
   "metadata": {
    "id": "j6RX3bYViqMU"
   },
   "outputs": [],
   "source": [
    "test_data.dropna(inplace=True)"
   ]
  },
  {
   "cell_type": "code",
   "execution_count": null,
   "metadata": {
    "colab": {
     "base_uri": "https://localhost:8080/",
     "height": 373
    },
    "executionInfo": {
     "elapsed": 929,
     "status": "ok",
     "timestamp": 1608120323658,
     "user": {
      "displayName": "Maxwell Boafo",
      "photoUrl": "https://lh3.googleusercontent.com/a-/AOh14GjFVOcS-jtWoe8CJWMEz5Y71xRW550Mi7YtwlDijw=s64",
      "userId": "05496059639288395459"
     },
     "user_tz": -180
    },
    "id": "JaUfx-0ivp2K",
    "outputId": "6576ea86-4885-4b81-ac24-1e4e13eb41b3"
   },
   "outputs": [
    {
     "data": {
      "text/html": [
       "<div>\n",
       "<style scoped>\n",
       "    .dataframe tbody tr th:only-of-type {\n",
       "        vertical-align: middle;\n",
       "    }\n",
       "\n",
       "    .dataframe tbody tr th {\n",
       "        vertical-align: top;\n",
       "    }\n",
       "\n",
       "    .dataframe thead th {\n",
       "        text-align: right;\n",
       "    }\n",
       "</style>\n",
       "<table border=\"1\" class=\"dataframe\">\n",
       "  <thead>\n",
       "    <tr style=\"text-align: right;\">\n",
       "      <th></th>\n",
       "      <th>visitStartTime</th>\n",
       "      <th>isMobile</th>\n",
       "      <th>isFirstVisit</th>\n",
       "      <th>totalVisits</th>\n",
       "      <th>totalHits</th>\n",
       "      <th>totalPageviews</th>\n",
       "      <th>totalTimeOnSite</th>\n",
       "      <th>productPagesViewed</th>\n",
       "      <th>addedToCart</th>\n",
       "    </tr>\n",
       "    <tr>\n",
       "      <th>country</th>\n",
       "      <th></th>\n",
       "      <th></th>\n",
       "      <th></th>\n",
       "      <th></th>\n",
       "      <th></th>\n",
       "      <th></th>\n",
       "      <th></th>\n",
       "      <th></th>\n",
       "      <th></th>\n",
       "    </tr>\n",
       "  </thead>\n",
       "  <tbody>\n",
       "    <tr>\n",
       "      <th>United States</th>\n",
       "      <td>445533511538284</td>\n",
       "      <td>86312</td>\n",
       "      <td>198281</td>\n",
       "      <td>300429</td>\n",
       "      <td>2110805</td>\n",
       "      <td>1722844</td>\n",
       "      <td>58035698</td>\n",
       "      <td>207173</td>\n",
       "      <td>28057</td>\n",
       "    </tr>\n",
       "    <tr>\n",
       "      <th>Canada</th>\n",
       "      <td>31612831437807</td>\n",
       "      <td>6139</td>\n",
       "      <td>15568</td>\n",
       "      <td>21314</td>\n",
       "      <td>135293</td>\n",
       "      <td>111459</td>\n",
       "      <td>3955380</td>\n",
       "      <td>12370</td>\n",
       "      <td>1995</td>\n",
       "    </tr>\n",
       "    <tr>\n",
       "      <th>India</th>\n",
       "      <td>62069895532280</td>\n",
       "      <td>13170</td>\n",
       "      <td>37147</td>\n",
       "      <td>41847</td>\n",
       "      <td>125076</td>\n",
       "      <td>106972</td>\n",
       "      <td>3762267</td>\n",
       "      <td>10511</td>\n",
       "      <td>1593</td>\n",
       "    </tr>\n",
       "    <tr>\n",
       "      <th>United Kingdom</th>\n",
       "      <td>44821991940627</td>\n",
       "      <td>11327</td>\n",
       "      <td>25337</td>\n",
       "      <td>30207</td>\n",
       "      <td>88360</td>\n",
       "      <td>77285</td>\n",
       "      <td>2377980</td>\n",
       "      <td>5858</td>\n",
       "      <td>821</td>\n",
       "    </tr>\n",
       "    <tr>\n",
       "      <th>Japan</th>\n",
       "      <td>24239284227537</td>\n",
       "      <td>4051</td>\n",
       "      <td>13268</td>\n",
       "      <td>16341</td>\n",
       "      <td>62766</td>\n",
       "      <td>53286</td>\n",
       "      <td>1874240</td>\n",
       "      <td>5026</td>\n",
       "      <td>523</td>\n",
       "    </tr>\n",
       "    <tr>\n",
       "      <th>Australia</th>\n",
       "      <td>15122017877418</td>\n",
       "      <td>3385</td>\n",
       "      <td>8636</td>\n",
       "      <td>10194</td>\n",
       "      <td>41040</td>\n",
       "      <td>34045</td>\n",
       "      <td>1154923</td>\n",
       "      <td>3871</td>\n",
       "      <td>503</td>\n",
       "    </tr>\n",
       "    <tr>\n",
       "      <th>France</th>\n",
       "      <td>19770024205304</td>\n",
       "      <td>3452</td>\n",
       "      <td>10558</td>\n",
       "      <td>13323</td>\n",
       "      <td>45558</td>\n",
       "      <td>39407</td>\n",
       "      <td>1483972</td>\n",
       "      <td>3493</td>\n",
       "      <td>496</td>\n",
       "    </tr>\n",
       "    <tr>\n",
       "      <th>Germany</th>\n",
       "      <td>24919418918827</td>\n",
       "      <td>5941</td>\n",
       "      <td>14280</td>\n",
       "      <td>16795</td>\n",
       "      <td>52643</td>\n",
       "      <td>45927</td>\n",
       "      <td>1437649</td>\n",
       "      <td>3685</td>\n",
       "      <td>495</td>\n",
       "    </tr>\n",
       "    <tr>\n",
       "      <th>Netherlands</th>\n",
       "      <td>14428949331567</td>\n",
       "      <td>2851</td>\n",
       "      <td>7959</td>\n",
       "      <td>9723</td>\n",
       "      <td>31446</td>\n",
       "      <td>27199</td>\n",
       "      <td>940672</td>\n",
       "      <td>2130</td>\n",
       "      <td>360</td>\n",
       "    </tr>\n",
       "    <tr>\n",
       "      <th>Taiwan</th>\n",
       "      <td>15585470316736</td>\n",
       "      <td>2356</td>\n",
       "      <td>8119</td>\n",
       "      <td>10505</td>\n",
       "      <td>44160</td>\n",
       "      <td>37939</td>\n",
       "      <td>1495839</td>\n",
       "      <td>3568</td>\n",
       "      <td>336</td>\n",
       "    </tr>\n",
       "  </tbody>\n",
       "</table>\n",
       "</div>"
      ],
      "text/plain": [
       "                 visitStartTime  isMobile  ...  productPagesViewed  addedToCart\n",
       "country                                    ...                                 \n",
       "United States   445533511538284     86312  ...              207173        28057\n",
       "Canada           31612831437807      6139  ...               12370         1995\n",
       "India            62069895532280     13170  ...               10511         1593\n",
       "United Kingdom   44821991940627     11327  ...                5858          821\n",
       "Japan            24239284227537      4051  ...                5026          523\n",
       "Australia        15122017877418      3385  ...                3871          503\n",
       "France           19770024205304      3452  ...                3493          496\n",
       "Germany          24919418918827      5941  ...                3685          495\n",
       "Netherlands      14428949331567      2851  ...                2130          360\n",
       "Taiwan           15585470316736      2356  ...                3568          336\n",
       "\n",
       "[10 rows x 9 columns]"
      ]
     },
     "execution_count": 11,
     "metadata": {
      "tags": []
     },
     "output_type": "execute_result"
    }
   ],
   "source": [
    "train_data.groupby(by='country').sum().sort_values(by='addedToCart', ascending=False)[:10]"
   ]
  },
  {
   "cell_type": "markdown",
   "metadata": {
    "id": "qKx0Cu8t0jCZ"
   },
   "source": [
    "Of all of the countries that made purchases from the site the United States tops the list with other countries in Europe as well as India, Australia and Taiwan. It is noteworthy that India is an important country for first time visitors, mobile device users and total number of products viewed as a country in the top 3 for total purchases."
   ]
  },
  {
   "cell_type": "code",
   "execution_count": null,
   "metadata": {
    "colab": {
     "base_uri": "https://localhost:8080/",
     "height": 315
    },
    "executionInfo": {
     "elapsed": 903,
     "status": "ok",
     "timestamp": 1608120326912,
     "user": {
      "displayName": "Maxwell Boafo",
      "photoUrl": "https://lh3.googleusercontent.com/a-/AOh14GjFVOcS-jtWoe8CJWMEz5Y71xRW550Mi7YtwlDijw=s64",
      "userId": "05496059639288395459"
     },
     "user_tz": -180
    },
    "id": "jbcNKJPBxp1J",
    "outputId": "999e32c2-dfdd-4ebf-c1c9-611e24328686"
   },
   "outputs": [
    {
     "data": {
      "text/plain": [
       "<matplotlib.axes._subplots.AxesSubplot at 0x7f3dc7132940>"
      ]
     },
     "execution_count": 12,
     "metadata": {
      "tags": []
     },
     "output_type": "execute_result"
    },
    {
     "data": {
      "image/png": "[encoded data removed]",
      "text/plain": [
       "<Figure size 432x288 with 1 Axes>"
      ]
     },
     "metadata": {
      "needs_background": "light",
      "tags": []
     },
     "output_type": "display_data"
    }
   ],
   "source": [
    "train_data['trafficMedium'].value_counts().plot(kind='bar')"
   ]
  },
  {
   "cell_type": "code",
   "execution_count": null,
   "metadata": {
    "colab": {
     "base_uri": "https://localhost:8080/"
    },
    "executionInfo": {
     "elapsed": 754,
     "status": "ok",
     "timestamp": 1608120330440,
     "user": {
      "displayName": "Maxwell Boafo",
      "photoUrl": "https://lh3.googleusercontent.com/a-/AOh14GjFVOcS-jtWoe8CJWMEz5Y71xRW550Mi7YtwlDijw=s64",
      "userId": "05496059639288395459"
     },
     "user_tz": -180
    },
    "id": "t5p9Op6A6og3",
    "outputId": "6fa883ec-ff2b-4c69-f9e2-442d907b3e1b"
   },
   "outputs": [
    {
     "data": {
      "text/plain": [
       "(none)       286030\n",
       "referral     241943\n",
       "organic      169835\n",
       "affiliate     12579\n",
       "cpc            8875\n",
       "cpm            4760\n",
       "(not set)       112\n",
       "Name: trafficMedium, dtype: int64"
      ]
     },
     "execution_count": 13,
     "metadata": {
      "tags": []
     },
     "output_type": "execute_result"
    }
   ],
   "source": [
    "train_data[train_data['addedToCart']==0]['trafficMedium'].value_counts()"
   ]
  },
  {
   "cell_type": "code",
   "execution_count": null,
   "metadata": {
    "colab": {
     "base_uri": "https://localhost:8080/"
    },
    "executionInfo": {
     "elapsed": 802,
     "status": "ok",
     "timestamp": 1608120331522,
     "user": {
      "displayName": "Maxwell Boafo",
      "photoUrl": "https://lh3.googleusercontent.com/a-/AOh14GjFVOcS-jtWoe8CJWMEz5Y71xRW550Mi7YtwlDijw=s64",
      "userId": "05496059639288395459"
     },
     "user_tz": -180
    },
    "id": "9L5fvUfckPNk",
    "outputId": "373853de-cbdd-42e6-87bb-b4d70d692efd"
   },
   "outputs": [
    {
     "data": {
      "text/plain": [
       "(none)       25890\n",
       "organic      11171\n",
       "referral      2636\n",
       "cpc            770\n",
       "affiliate      671\n",
       "cpm            431\n",
       "(not set)        4\n",
       "Name: trafficMedium, dtype: int64"
      ]
     },
     "execution_count": 14,
     "metadata": {
      "tags": []
     },
     "output_type": "execute_result"
    }
   ],
   "source": [
    "train_data[train_data['addedToCart']==1]['trafficMedium'].value_counts()"
   ]
  },
  {
   "cell_type": "markdown",
   "metadata": {
    "id": "jcmOU4kGk8FR"
   },
   "source": [
    "From the plots and value counts the trafficMedium does affect the volume of purchases made in the website. For instance organic traffic performs better purchases compared to non purchases and referrals do not perform as well for purchases compared to purchases. Buyers that went to the site on their own peharps by means of search engine (Google) make up the most purchases. Further clarification about none and non-set categories to know what they are. The trafficMedium will be converted into a dummy variable. Whether a mobile phone is used or not on the site has little or no effect on purchases from the website data. "
   ]
  },
  {
   "cell_type": "code",
   "execution_count": null,
   "metadata": {
    "colab": {
     "base_uri": "https://localhost:8080/",
     "height": 315
    },
    "executionInfo": {
     "elapsed": 826,
     "status": "ok",
     "timestamp": 1608120333822,
     "user": {
      "displayName": "Maxwell Boafo",
      "photoUrl": "https://lh3.googleusercontent.com/a-/AOh14GjFVOcS-jtWoe8CJWMEz5Y71xRW550Mi7YtwlDijw=s64",
      "userId": "05496059639288395459"
     },
     "user_tz": -180
    },
    "id": "JloXRgzhkhO2",
    "outputId": "bb4fea0a-378b-447c-ed50-0f0390472ae9"
   },
   "outputs": [
    {
     "data": {
      "text/plain": [
       "<matplotlib.axes._subplots.AxesSubplot at 0x7f3dc6bc8c50>"
      ]
     },
     "execution_count": 15,
     "metadata": {
      "tags": []
     },
     "output_type": "execute_result"
    },
    {
     "data": {
      "image/png": "[encoded data removed]",
      "text/plain": [
       "<Figure size 432x288 with 1 Axes>"
      ]
     },
     "metadata": {
      "needs_background": "light",
      "tags": []
     },
     "output_type": "display_data"
    }
   ],
   "source": [
    "train_data['deviceCategory'].value_counts().plot(kind='bar')"
   ]
  },
  {
   "cell_type": "code",
   "execution_count": null,
   "metadata": {
    "colab": {
     "base_uri": "https://localhost:8080/"
    },
    "executionInfo": {
     "elapsed": 836,
     "status": "ok",
     "timestamp": 1608120337625,
     "user": {
      "displayName": "Maxwell Boafo",
      "photoUrl": "https://lh3.googleusercontent.com/a-/AOh14GjFVOcS-jtWoe8CJWMEz5Y71xRW550Mi7YtwlDijw=s64",
      "userId": "05496059639288395459"
     },
     "user_tz": -180
    },
    "id": "hnQPyLcSkl4K",
    "outputId": "7864454a-7686-46d8-ed3c-8037e93a20bf"
   },
   "outputs": [
    {
     "data": {
      "text/plain": [
       "desktop    541250\n",
       "mobile     159272\n",
       "tablet      23612\n",
       "Name: deviceCategory, dtype: int64"
      ]
     },
     "execution_count": 16,
     "metadata": {
      "tags": []
     },
     "output_type": "execute_result"
    }
   ],
   "source": [
    "train_data[train_data['addedToCart']==0]['deviceCategory'].value_counts()"
   ]
  },
  {
   "cell_type": "code",
   "execution_count": null,
   "metadata": {
    "colab": {
     "base_uri": "https://localhost:8080/"
    },
    "executionInfo": {
     "elapsed": 768,
     "status": "ok",
     "timestamp": 1608120338241,
     "user": {
      "displayName": "Maxwell Boafo",
      "photoUrl": "https://lh3.googleusercontent.com/a-/AOh14GjFVOcS-jtWoe8CJWMEz5Y71xRW550Mi7YtwlDijw=s64",
      "userId": "05496059639288395459"
     },
     "user_tz": -180
    },
    "id": "RoR_rWs8kye6",
    "outputId": "111ed78c-c331-4124-8a52-7927a7272786"
   },
   "outputs": [
    {
     "data": {
      "text/plain": [
       "desktop    33876\n",
       "mobile      6676\n",
       "tablet      1021\n",
       "Name: deviceCategory, dtype: int64"
      ]
     },
     "execution_count": 17,
     "metadata": {
      "tags": []
     },
     "output_type": "execute_result"
    }
   ],
   "source": [
    "train_data[train_data['addedToCart']==1]['deviceCategory'].value_counts()"
   ]
  },
  {
   "cell_type": "markdown",
   "metadata": {
    "id": "ef5IJAHScs4r"
   },
   "source": [
    "Since purchases and non purchases have the same rankings for the 3 device categories customers decision to make a purchase regardless of the device they use. The majority of visitors to the site are desktop users followed by mobile phone users and then tablet users. The only categorical variable that will be used for the data modeling process is the trafficMedium variable."
   ]
  },
  {
   "cell_type": "code",
   "execution_count": null,
   "metadata": {
    "colab": {
     "base_uri": "https://localhost:8080/",
     "height": 489
    },
    "executionInfo": {
     "elapsed": 1432,
     "status": "ok",
     "timestamp": 1608120343807,
     "user": {
      "displayName": "Maxwell Boafo",
      "photoUrl": "https://lh3.googleusercontent.com/a-/AOh14GjFVOcS-jtWoe8CJWMEz5Y71xRW550Mi7YtwlDijw=s64",
      "userId": "05496059639288395459"
     },
     "user_tz": -180
    },
    "id": "SJT0IVDcJOoI",
    "outputId": "78683f7c-4d83-40ac-a4ae-45e732c7c8c8"
   },
   "outputs": [
    {
     "data": {
      "text/plain": [
       "<matplotlib.axes._subplots.AxesSubplot at 0x7f3dc6bb4320>"
      ]
     },
     "execution_count": 18,
     "metadata": {
      "tags": []
     },
     "output_type": "execute_result"
    },
    {
     "data": {
      "image/png": "[encoded data removed]",
      "text/plain": [
       "<Figure size 720x432 with 2 Axes>"
      ]
     },
     "metadata": {
      "needs_background": "light",
      "tags": []
     },
     "output_type": "display_data"
    }
   ],
   "source": [
    "# Correlation plot for numerical variables\n",
    "\n",
    "plt.figure(figsize=(10,6))\n",
    "correlation_matrix = train_data.corr().round(2)\n",
    "sns.heatmap(data=correlation_matrix, annot=True)"
   ]
  },
  {
   "cell_type": "code",
   "execution_count": null,
   "metadata": {
    "colab": {
     "base_uri": "https://localhost:8080/",
     "height": 1000
    },
    "executionInfo": {
     "elapsed": 1167571,
     "status": "ok",
     "timestamp": 1608127996251,
     "user": {
      "displayName": "Maxwell Boafo",
      "photoUrl": "https://lh3.googleusercontent.com/a-/AOh14GjFVOcS-jtWoe8CJWMEz5Y71xRW550Mi7YtwlDijw=s64",
      "userId": "05496059639288395459"
     },
     "user_tz": -180
    },
    "id": "fiq-_hI9fG1d",
    "outputId": "4034ac85-c1a4-44ce-d15d-472ed5fbd2e2"
   },
   "outputs": [
    {
     "name": "stderr",
     "output_type": "stream",
     "text": [
      "/usr/local/lib/python3.6/dist-packages/seaborn/distributions.py:305: UserWarning: Dataset has 0 variance; skipping density estimate.\n",
      "  warnings.warn(msg, UserWarning)\n",
      "/usr/local/lib/python3.6/dist-packages/seaborn/distributions.py:305: UserWarning: Dataset has 0 variance; skipping density estimate.\n",
      "  warnings.warn(msg, UserWarning)\n"
     ]
    },
    {
     "data": {
      "image/png": "[encoded data removed]",
      "text/plain": [
       "<Figure size 1150.62x1080 with 42 Axes>"
      ]
     },
     "metadata": {
      "needs_background": "light",
      "tags": []
     },
     "output_type": "display_data"
    }
   ],
   "source": [
    "sns.pairplot(vars=['visitStartTime', 'totalVisits', 'totalHits', 'totalPageviews', 'totalTimeOnSite', 'productPagesViewed'], data=train_data, hue= 'addedToCart', palette='BrBG_r')\n",
    "plt.show()"
   ]
  },
  {
   "cell_type": "markdown",
   "metadata": {
    "id": "mimXnX2rl9_H"
   },
   "source": [
    "From the correlation matrix and pairplots either totalHits or totalPageviews should be dropped since they are related."
   ]
  },
  {
   "cell_type": "code",
   "execution_count": null,
   "metadata": {
    "colab": {
     "base_uri": "https://localhost:8080/"
    },
    "executionInfo": {
     "elapsed": 669,
     "status": "ok",
     "timestamp": 1608120352400,
     "user": {
      "displayName": "Maxwell Boafo",
      "photoUrl": "https://lh3.googleusercontent.com/a-/AOh14GjFVOcS-jtWoe8CJWMEz5Y71xRW550Mi7YtwlDijw=s64",
      "userId": "05496059639288395459"
     },
     "user_tz": -180
    },
    "id": "4gyrUlTVEomg",
    "outputId": "b84ccf0f-4f73-4314-83dd-48f3dba2ca08"
   },
   "outputs": [
    {
     "name": "stdout",
     "output_type": "stream",
     "text": [
      "Ratio of 0s to 1s  17 : 1\n"
     ]
    }
   ],
   "source": [
    "print('Ratio of 0s to 1s ', int(train_data['addedToCart'].value_counts(ascending=True)[0] / train_data['addedToCart'].value_counts(ascending=True)[1]),':',1)"
   ]
  },
  {
   "cell_type": "code",
   "execution_count": null,
   "metadata": {
    "colab": {
     "base_uri": "https://localhost:8080/",
     "height": 293
    },
    "executionInfo": {
     "elapsed": 694,
     "status": "ok",
     "timestamp": 1608121178510,
     "user": {
      "displayName": "Maxwell Boafo",
      "photoUrl": "https://lh3.googleusercontent.com/a-/AOh14GjFVOcS-jtWoe8CJWMEz5Y71xRW550Mi7YtwlDijw=s64",
      "userId": "05496059639288395459"
     },
     "user_tz": -180
    },
    "id": "oa49GCfRp6L_",
    "outputId": "3884ca63-8c5f-420b-e51d-03392842b578"
   },
   "outputs": [
    {
     "data": {
      "text/plain": [
       "<matplotlib.axes._subplots.AxesSubplot at 0x7f3dc341e7f0>"
      ]
     },
     "execution_count": 21,
     "metadata": {
      "tags": []
     },
     "output_type": "execute_result"
    },
    {
     "data": {
      "image/png": "[encoded data removed]",
      "text/plain": [
       "<Figure size 432x288 with 1 Axes>"
      ]
     },
     "metadata": {
      "needs_background": "light",
      "tags": []
     },
     "output_type": "display_data"
    }
   ],
   "source": [
    "plt.xlabel('addedToCart')\n",
    "plt.ylabel('Count')\n",
    "train_data['addedToCart'].value_counts(ascending=True).plot(kind='bar')"
   ]
  },
  {
   "cell_type": "markdown",
   "metadata": {
    "id": "n-WPDF_7yBNe"
   },
   "source": [
    "The truth value of the addedToCart variable (1) has the minority sample for the variable. The dataset should have a representative sample for data modeling. This can be done by resampling taking a minority from the false value (0) and a majority sample from the truth value or undersampling the majority class. A SMTOE technique can be applied.\n",
    "\n",
    "In SMOTE (Synthetic Minority Oversampling Technique) we synthesize elements for the minority class, in the vicinity of already existing elements. This can also be taken care of during the model development process."
   ]
  },
  {
   "cell_type": "markdown",
   "metadata": {
    "id": "q0hn4K0pCJ7L"
   },
   "source": [
    "# Data preparation"
   ]
  },
  {
   "cell_type": "code",
   "execution_count": null,
   "metadata": {
    "colab": {
     "base_uri": "https://localhost:8080/"
    },
    "executionInfo": {
     "elapsed": 658,
     "status": "ok",
     "timestamp": 1608121232485,
     "user": {
      "displayName": "Maxwell Boafo",
      "photoUrl": "https://lh3.googleusercontent.com/a-/AOh14GjFVOcS-jtWoe8CJWMEz5Y71xRW550Mi7YtwlDijw=s64",
      "userId": "05496059639288395459"
     },
     "user_tz": -180
    },
    "id": "zxi0Sc-MTHwS",
    "outputId": "ff8d5e3d-c038-49e0-ba1d-ae9330ea832e"
   },
   "outputs": [
    {
     "data": {
      "text/plain": [
       "Index(['fullVisitorId', 'visitStartTime', 'date', 'deviceCategory', 'isMobile',\n",
       "       'operatingSystem', 'browser', 'country', 'city', 'trafficSource',\n",
       "       'trafficMedium', 'trafficCampaign', 'isFirstVisit', 'totalVisits',\n",
       "       'totalHits', 'totalPageviews', 'totalTimeOnSite', 'productPagesViewed',\n",
       "       'addedToCart'],\n",
       "      dtype='object')"
      ]
     },
     "execution_count": 22,
     "metadata": {
      "tags": []
     },
     "output_type": "execute_result"
    }
   ],
   "source": [
    "# Picking the relevant columns\n",
    "\n",
    "train_data.columns"
   ]
  },
  {
   "cell_type": "code",
   "execution_count": null,
   "metadata": {
    "id": "P2EDE_c8HK0D"
   },
   "outputs": [],
   "source": [
    "columns = ['fullVisitorId','trafficMedium', 'isFirstVisit', 'totalVisits',\n",
    "           'totalPageviews', 'totalTimeOnSite', 'productPagesViewed', 'addedToCart']"
   ]
  },
  {
   "cell_type": "code",
   "execution_count": null,
   "metadata": {
    "id": "i6QWMwCRTHtc"
   },
   "outputs": [],
   "source": [
    "df_train = train_data[columns]\n",
    "df_train.index = df_train['fullVisitorId']\n",
    "df_train.drop(labels='fullVisitorId', axis=1, inplace=True)"
   ]
  },
  {
   "cell_type": "code",
   "execution_count": null,
   "metadata": {
    "colab": {
     "base_uri": "https://localhost:8080/"
    },
    "executionInfo": {
     "elapsed": 722,
     "status": "ok",
     "timestamp": 1608121276696,
     "user": {
      "displayName": "Maxwell Boafo",
      "photoUrl": "https://lh3.googleusercontent.com/a-/AOh14GjFVOcS-jtWoe8CJWMEz5Y71xRW550Mi7YtwlDijw=s64",
      "userId": "05496059639288395459"
     },
     "user_tz": -180
    },
    "id": "qjP0gs9CtBgV",
    "outputId": "50597b43-98e6-4553-d418-aa694371e9c8"
   },
   "outputs": [
    {
     "data": {
      "text/plain": [
       "Index(['fullVisitorId', 'visitStartTime', 'date', 'deviceCategory', 'isMobile',\n",
       "       'operatingSystem', 'browser', 'country', 'city', 'trafficSource',\n",
       "       'trafficMedium', 'trafficCampaign', 'isFirstVisit', 'totalVisits',\n",
       "       'totalHits', 'totalPageviews', 'totalTimeOnSite', 'productPagesViewed'],\n",
       "      dtype='object')"
      ]
     },
     "execution_count": 25,
     "metadata": {
      "tags": []
     },
     "output_type": "execute_result"
    }
   ],
   "source": [
    "test_data.columns"
   ]
  },
  {
   "cell_type": "code",
   "execution_count": null,
   "metadata": {
    "id": "5AkLnplnKxuM"
   },
   "outputs": [],
   "source": [
    "df_test = test_data[['fullVisitorId','trafficMedium', 'isFirstVisit', 'totalVisits',\n",
    "                    'totalPageviews', 'totalTimeOnSite', 'productPagesViewed']]\n",
    "df_test.index = df_test['fullVisitorId']\n",
    "df_test.drop(labels='fullVisitorId', axis=1, inplace=True)"
   ]
  },
  {
   "cell_type": "code",
   "execution_count": null,
   "metadata": {
    "colab": {
     "base_uri": "https://localhost:8080/",
     "height": 225
    },
    "executionInfo": {
     "elapsed": 665,
     "status": "ok",
     "timestamp": 1608121286550,
     "user": {
      "displayName": "Maxwell Boafo",
      "photoUrl": "https://lh3.googleusercontent.com/a-/AOh14GjFVOcS-jtWoe8CJWMEz5Y71xRW550Mi7YtwlDijw=s64",
      "userId": "05496059639288395459"
     },
     "user_tz": -180
    },
    "id": "hZBhcj3FxsKY",
    "outputId": "a2406a3c-d0bd-437d-8cee-a57d09444a57"
   },
   "outputs": [
    {
     "data": {
      "text/html": [
       "<div>\n",
       "<style scoped>\n",
       "    .dataframe tbody tr th:only-of-type {\n",
       "        vertical-align: middle;\n",
       "    }\n",
       "\n",
       "    .dataframe tbody tr th {\n",
       "        vertical-align: top;\n",
       "    }\n",
       "\n",
       "    .dataframe thead th {\n",
       "        text-align: right;\n",
       "    }\n",
       "</style>\n",
       "<table border=\"1\" class=\"dataframe\">\n",
       "  <thead>\n",
       "    <tr style=\"text-align: right;\">\n",
       "      <th></th>\n",
       "      <th>trafficMedium</th>\n",
       "      <th>isFirstVisit</th>\n",
       "      <th>totalVisits</th>\n",
       "      <th>totalPageviews</th>\n",
       "      <th>totalTimeOnSite</th>\n",
       "      <th>productPagesViewed</th>\n",
       "      <th>addedToCart</th>\n",
       "    </tr>\n",
       "    <tr>\n",
       "      <th>fullVisitorId</th>\n",
       "      <th></th>\n",
       "      <th></th>\n",
       "      <th></th>\n",
       "      <th></th>\n",
       "      <th></th>\n",
       "      <th></th>\n",
       "      <th></th>\n",
       "    </tr>\n",
       "  </thead>\n",
       "  <tbody>\n",
       "    <tr>\n",
       "      <th>4214259466202417480</th>\n",
       "      <td>organic</td>\n",
       "      <td>0</td>\n",
       "      <td>1</td>\n",
       "      <td>2</td>\n",
       "      <td>16</td>\n",
       "      <td>0</td>\n",
       "      <td>0</td>\n",
       "    </tr>\n",
       "    <tr>\n",
       "      <th>3541738396641160713</th>\n",
       "      <td>organic</td>\n",
       "      <td>0</td>\n",
       "      <td>1</td>\n",
       "      <td>1</td>\n",
       "      <td>0</td>\n",
       "      <td>0</td>\n",
       "      <td>0</td>\n",
       "    </tr>\n",
       "    <tr>\n",
       "      <th>8276557623242379934</th>\n",
       "      <td>organic</td>\n",
       "      <td>0</td>\n",
       "      <td>1</td>\n",
       "      <td>2</td>\n",
       "      <td>16</td>\n",
       "      <td>0</td>\n",
       "      <td>0</td>\n",
       "    </tr>\n",
       "    <tr>\n",
       "      <th>5855313117666192014</th>\n",
       "      <td>organic</td>\n",
       "      <td>0</td>\n",
       "      <td>1</td>\n",
       "      <td>1</td>\n",
       "      <td>0</td>\n",
       "      <td>0</td>\n",
       "      <td>0</td>\n",
       "    </tr>\n",
       "    <tr>\n",
       "      <th>2619633492044211273</th>\n",
       "      <td>organic</td>\n",
       "      <td>0</td>\n",
       "      <td>1</td>\n",
       "      <td>12</td>\n",
       "      <td>326</td>\n",
       "      <td>1</td>\n",
       "      <td>1</td>\n",
       "    </tr>\n",
       "  </tbody>\n",
       "</table>\n",
       "</div>"
      ],
      "text/plain": [
       "                    trafficMedium  ...  addedToCart\n",
       "fullVisitorId                      ...             \n",
       "4214259466202417480       organic  ...            0\n",
       "3541738396641160713       organic  ...            0\n",
       "8276557623242379934       organic  ...            0\n",
       "5855313117666192014       organic  ...            0\n",
       "2619633492044211273       organic  ...            1\n",
       "\n",
       "[5 rows x 7 columns]"
      ]
     },
     "execution_count": 27,
     "metadata": {
      "tags": []
     },
     "output_type": "execute_result"
    }
   ],
   "source": [
    "df_train.head()"
   ]
  },
  {
   "cell_type": "code",
   "execution_count": null,
   "metadata": {
    "colab": {
     "base_uri": "https://localhost:8080/",
     "height": 225
    },
    "executionInfo": {
     "elapsed": 664,
     "status": "ok",
     "timestamp": 1608121289237,
     "user": {
      "displayName": "Maxwell Boafo",
      "photoUrl": "https://lh3.googleusercontent.com/a-/AOh14GjFVOcS-jtWoe8CJWMEz5Y71xRW550Mi7YtwlDijw=s64",
      "userId": "05496059639288395459"
     },
     "user_tz": -180
    },
    "id": "aBfMH1UhxxYk",
    "outputId": "3c6d62d7-c2ae-4e65-90eb-86b1a49a1d0e"
   },
   "outputs": [
    {
     "data": {
      "text/html": [
       "<div>\n",
       "<style scoped>\n",
       "    .dataframe tbody tr th:only-of-type {\n",
       "        vertical-align: middle;\n",
       "    }\n",
       "\n",
       "    .dataframe tbody tr th {\n",
       "        vertical-align: top;\n",
       "    }\n",
       "\n",
       "    .dataframe thead th {\n",
       "        text-align: right;\n",
       "    }\n",
       "</style>\n",
       "<table border=\"1\" class=\"dataframe\">\n",
       "  <thead>\n",
       "    <tr style=\"text-align: right;\">\n",
       "      <th></th>\n",
       "      <th>trafficMedium</th>\n",
       "      <th>isFirstVisit</th>\n",
       "      <th>totalVisits</th>\n",
       "      <th>totalPageviews</th>\n",
       "      <th>totalTimeOnSite</th>\n",
       "      <th>productPagesViewed</th>\n",
       "    </tr>\n",
       "    <tr>\n",
       "      <th>fullVisitorId</th>\n",
       "      <th></th>\n",
       "      <th></th>\n",
       "      <th></th>\n",
       "      <th></th>\n",
       "      <th></th>\n",
       "      <th></th>\n",
       "    </tr>\n",
       "  </thead>\n",
       "  <tbody>\n",
       "    <tr>\n",
       "      <th>788269418281542126</th>\n",
       "      <td>organic</td>\n",
       "      <td>1</td>\n",
       "      <td>1</td>\n",
       "      <td>3</td>\n",
       "      <td>85</td>\n",
       "      <td>1</td>\n",
       "    </tr>\n",
       "    <tr>\n",
       "      <th>4029010814852735558</th>\n",
       "      <td>organic</td>\n",
       "      <td>1</td>\n",
       "      <td>1</td>\n",
       "      <td>1</td>\n",
       "      <td>0</td>\n",
       "      <td>0</td>\n",
       "    </tr>\n",
       "    <tr>\n",
       "      <th>1290376851612846048</th>\n",
       "      <td>cpm</td>\n",
       "      <td>0</td>\n",
       "      <td>1</td>\n",
       "      <td>1</td>\n",
       "      <td>0</td>\n",
       "      <td>0</td>\n",
       "    </tr>\n",
       "    <tr>\n",
       "      <th>5426533588897404514</th>\n",
       "      <td>cpm</td>\n",
       "      <td>0</td>\n",
       "      <td>1</td>\n",
       "      <td>2</td>\n",
       "      <td>9</td>\n",
       "      <td>0</td>\n",
       "    </tr>\n",
       "    <tr>\n",
       "      <th>2372356979576453844</th>\n",
       "      <td>cpm</td>\n",
       "      <td>0</td>\n",
       "      <td>1</td>\n",
       "      <td>10</td>\n",
       "      <td>251</td>\n",
       "      <td>0</td>\n",
       "    </tr>\n",
       "  </tbody>\n",
       "</table>\n",
       "</div>"
      ],
      "text/plain": [
       "                    trafficMedium  ...  productPagesViewed\n",
       "fullVisitorId                      ...                    \n",
       "788269418281542126        organic  ...                   1\n",
       "4029010814852735558       organic  ...                   0\n",
       "1290376851612846048           cpm  ...                   0\n",
       "5426533588897404514           cpm  ...                   0\n",
       "2372356979576453844           cpm  ...                   0\n",
       "\n",
       "[5 rows x 6 columns]"
      ]
     },
     "execution_count": 28,
     "metadata": {
      "tags": []
     },
     "output_type": "execute_result"
    }
   ],
   "source": [
    "df_test.head()"
   ]
  },
  {
   "cell_type": "markdown",
   "metadata": {
    "id": "4OLPs4c-nj6j"
   },
   "source": [
    "Undersampling the majority class not added to the cart (0) reshuffling the combined dataset and training the models give less biased results. "
   ]
  },
  {
   "cell_type": "code",
   "execution_count": null,
   "metadata": {
    "colab": {
     "base_uri": "https://localhost:8080/"
    },
    "executionInfo": {
     "elapsed": 726,
     "status": "ok",
     "timestamp": 1608121486363,
     "user": {
      "displayName": "Maxwell Boafo",
      "photoUrl": "https://lh3.googleusercontent.com/a-/AOh14GjFVOcS-jtWoe8CJWMEz5Y71xRW550Mi7YtwlDijw=s64",
      "userId": "05496059639288395459"
     },
     "user_tz": -180
    },
    "id": "beCgNe6tAPim",
    "outputId": "369aa9d5-becb-4643-ccca-434cdfc94908"
   },
   "outputs": [
    {
     "data": {
      "text/plain": [
       "1     41573\n",
       "0    724134\n",
       "Name: addedToCart, dtype: int64"
      ]
     },
     "execution_count": 31,
     "metadata": {
      "tags": []
     },
     "output_type": "execute_result"
    }
   ],
   "source": [
    "train_data['addedToCart'].value_counts(ascending=True)"
   ]
  },
  {
   "cell_type": "code",
   "execution_count": null,
   "metadata": {
    "id": "7a4z8khPAcG6"
   },
   "outputs": [],
   "source": [
    "df_no_cart = train_data[train_data['addedToCart']==0][:41573]\n",
    "df_cart = train_data[train_data['addedToCart']==1]\n",
    "df_combined = pd.concat([df_no_cart, df_cart])"
   ]
  },
  {
   "cell_type": "code",
   "execution_count": null,
   "metadata": {
    "colab": {
     "base_uri": "https://localhost:8080/",
     "height": 467
    },
    "executionInfo": {
     "elapsed": 747,
     "status": "ok",
     "timestamp": 1608121492158,
     "user": {
      "displayName": "Maxwell Boafo",
      "photoUrl": "https://lh3.googleusercontent.com/a-/AOh14GjFVOcS-jtWoe8CJWMEz5Y71xRW550Mi7YtwlDijw=s64",
      "userId": "05496059639288395459"
     },
     "user_tz": -180
    },
    "id": "sk5glUMgDKnP",
    "outputId": "44e22ccb-208b-424c-ecac-a398ccac9817"
   },
   "outputs": [
    {
     "data": {
      "text/html": [
       "<div>\n",
       "<style scoped>\n",
       "    .dataframe tbody tr th:only-of-type {\n",
       "        vertical-align: middle;\n",
       "    }\n",
       "\n",
       "    .dataframe tbody tr th {\n",
       "        vertical-align: top;\n",
       "    }\n",
       "\n",
       "    .dataframe thead th {\n",
       "        text-align: right;\n",
       "    }\n",
       "</style>\n",
       "<table border=\"1\" class=\"dataframe\">\n",
       "  <thead>\n",
       "    <tr style=\"text-align: right;\">\n",
       "      <th></th>\n",
       "      <th>fullVisitorId</th>\n",
       "      <th>visitStartTime</th>\n",
       "      <th>date</th>\n",
       "      <th>deviceCategory</th>\n",
       "      <th>isMobile</th>\n",
       "      <th>operatingSystem</th>\n",
       "      <th>browser</th>\n",
       "      <th>country</th>\n",
       "      <th>city</th>\n",
       "      <th>trafficSource</th>\n",
       "      <th>trafficMedium</th>\n",
       "      <th>trafficCampaign</th>\n",
       "      <th>isFirstVisit</th>\n",
       "      <th>totalVisits</th>\n",
       "      <th>totalHits</th>\n",
       "      <th>totalPageviews</th>\n",
       "      <th>totalTimeOnSite</th>\n",
       "      <th>productPagesViewed</th>\n",
       "      <th>addedToCart</th>\n",
       "    </tr>\n",
       "  </thead>\n",
       "  <tbody>\n",
       "    <tr>\n",
       "      <th>0</th>\n",
       "      <td>4214259466202417480</td>\n",
       "      <td>1476492957</td>\n",
       "      <td>2016-10-14 00:00:00 UTC</td>\n",
       "      <td>desktop</td>\n",
       "      <td>False</td>\n",
       "      <td>Windows</td>\n",
       "      <td>Internet Explorer</td>\n",
       "      <td>United States</td>\n",
       "      <td>not available in demo dataset</td>\n",
       "      <td>ask</td>\n",
       "      <td>organic</td>\n",
       "      <td>(not set)</td>\n",
       "      <td>0</td>\n",
       "      <td>1</td>\n",
       "      <td>2</td>\n",
       "      <td>2</td>\n",
       "      <td>16</td>\n",
       "      <td>0</td>\n",
       "      <td>0</td>\n",
       "    </tr>\n",
       "    <tr>\n",
       "      <th>1</th>\n",
       "      <td>3541738396641160713</td>\n",
       "      <td>1493611205</td>\n",
       "      <td>2017-04-30 00:00:00 UTC</td>\n",
       "      <td>desktop</td>\n",
       "      <td>False</td>\n",
       "      <td>Windows</td>\n",
       "      <td>Chrome</td>\n",
       "      <td>United States</td>\n",
       "      <td>not available in demo dataset</td>\n",
       "      <td>ask</td>\n",
       "      <td>organic</td>\n",
       "      <td>(not set)</td>\n",
       "      <td>0</td>\n",
       "      <td>1</td>\n",
       "      <td>1</td>\n",
       "      <td>1</td>\n",
       "      <td>0</td>\n",
       "      <td>0</td>\n",
       "      <td>0</td>\n",
       "    </tr>\n",
       "    <tr>\n",
       "      <th>2</th>\n",
       "      <td>8276557623242379934</td>\n",
       "      <td>1490071147</td>\n",
       "      <td>2017-03-20 00:00:00 UTC</td>\n",
       "      <td>desktop</td>\n",
       "      <td>False</td>\n",
       "      <td>Windows</td>\n",
       "      <td>Chrome</td>\n",
       "      <td>Australia</td>\n",
       "      <td>Brisbane</td>\n",
       "      <td>ask</td>\n",
       "      <td>organic</td>\n",
       "      <td>(not set)</td>\n",
       "      <td>0</td>\n",
       "      <td>1</td>\n",
       "      <td>2</td>\n",
       "      <td>2</td>\n",
       "      <td>16</td>\n",
       "      <td>0</td>\n",
       "      <td>0</td>\n",
       "    </tr>\n",
       "    <tr>\n",
       "      <th>3</th>\n",
       "      <td>5855313117666192014</td>\n",
       "      <td>1491048053</td>\n",
       "      <td>2017-04-01 00:00:00 UTC</td>\n",
       "      <td>desktop</td>\n",
       "      <td>False</td>\n",
       "      <td>Windows</td>\n",
       "      <td>Chrome</td>\n",
       "      <td>Australia</td>\n",
       "      <td>Sydney</td>\n",
       "      <td>ask</td>\n",
       "      <td>organic</td>\n",
       "      <td>(not set)</td>\n",
       "      <td>0</td>\n",
       "      <td>1</td>\n",
       "      <td>1</td>\n",
       "      <td>1</td>\n",
       "      <td>0</td>\n",
       "      <td>0</td>\n",
       "      <td>0</td>\n",
       "    </tr>\n",
       "    <tr>\n",
       "      <th>5</th>\n",
       "      <td>2735112617112103081</td>\n",
       "      <td>1494792010</td>\n",
       "      <td>2017-05-14 00:00:00 UTC</td>\n",
       "      <td>desktop</td>\n",
       "      <td>False</td>\n",
       "      <td>Windows</td>\n",
       "      <td>Chrome</td>\n",
       "      <td>Italy</td>\n",
       "      <td>not available in demo dataset</td>\n",
       "      <td>ask</td>\n",
       "      <td>organic</td>\n",
       "      <td>(not set)</td>\n",
       "      <td>0</td>\n",
       "      <td>1</td>\n",
       "      <td>1</td>\n",
       "      <td>1</td>\n",
       "      <td>0</td>\n",
       "      <td>0</td>\n",
       "      <td>0</td>\n",
       "    </tr>\n",
       "  </tbody>\n",
       "</table>\n",
       "</div>"
      ],
      "text/plain": [
       "         fullVisitorId  visitStartTime  ... productPagesViewed addedToCart\n",
       "0  4214259466202417480      1476492957  ...                  0           0\n",
       "1  3541738396641160713      1493611205  ...                  0           0\n",
       "2  8276557623242379934      1490071147  ...                  0           0\n",
       "3  5855313117666192014      1491048053  ...                  0           0\n",
       "5  2735112617112103081      1494792010  ...                  0           0\n",
       "\n",
       "[5 rows x 19 columns]"
      ]
     },
     "execution_count": 33,
     "metadata": {
      "tags": []
     },
     "output_type": "execute_result"
    }
   ],
   "source": [
    "df_combined.head()"
   ]
  },
  {
   "cell_type": "code",
   "execution_count": null,
   "metadata": {
    "colab": {
     "base_uri": "https://localhost:8080/",
     "height": 279
    },
    "executionInfo": {
     "elapsed": 975,
     "status": "ok",
     "timestamp": 1608121567350,
     "user": {
      "displayName": "Maxwell Boafo",
      "photoUrl": "https://lh3.googleusercontent.com/a-/AOh14GjFVOcS-jtWoe8CJWMEz5Y71xRW550Mi7YtwlDijw=s64",
      "userId": "05496059639288395459"
     },
     "user_tz": -180
    },
    "id": "2-E9abyODVab",
    "outputId": "da101566-31bb-49d1-b661-3bae14736c1b"
   },
   "outputs": [
    {
     "data": {
      "text/plain": [
       "<matplotlib.axes._subplots.AxesSubplot at 0x7f3dc1b523c8>"
      ]
     },
     "execution_count": 34,
     "metadata": {
      "tags": []
     },
     "output_type": "execute_result"
    },
    {
     "data": {
      "image/png": "[encoded data removed]",
      "text/plain": [
       "<Figure size 432x288 with 1 Axes>"
      ]
     },
     "metadata": {
      "needs_background": "light",
      "tags": []
     },
     "output_type": "display_data"
    }
   ],
   "source": [
    "df_combined['addedToCart'].value_counts(ascending=True).plot(kind='bar')"
   ]
  },
  {
   "cell_type": "code",
   "execution_count": null,
   "metadata": {
    "id": "h01bHvnsIY4A"
   },
   "outputs": [],
   "source": [
    "# Suffling and setting the dependent and target variables\n",
    "\n",
    "df_combined = df_combined.sample(frac=1, random_state=42)\n",
    "\n",
    "x_train = df_combined[columns[:-1]]\n",
    "y_train = df_combined['addedToCart']"
   ]
  },
  {
   "cell_type": "code",
   "execution_count": null,
   "metadata": {
    "id": "CCQh1uCsGTvk"
   },
   "outputs": [],
   "source": [
    "# Turning the trafficMedium variable into numerical categories\n",
    "\n",
    "x_train = pd.get_dummies(data=x_train, columns=['trafficMedium'])"
   ]
  },
  {
   "cell_type": "code",
   "execution_count": null,
   "metadata": {
    "colab": {
     "base_uri": "https://localhost:8080/",
     "height": 468
    },
    "executionInfo": {
     "elapsed": 698,
     "status": "ok",
     "timestamp": 1608121585786,
     "user": {
      "displayName": "Maxwell Boafo",
      "photoUrl": "https://lh3.googleusercontent.com/a-/AOh14GjFVOcS-jtWoe8CJWMEz5Y71xRW550Mi7YtwlDijw=s64",
      "userId": "05496059639288395459"
     },
     "user_tz": -180
    },
    "id": "rjHXeJ8F5LL1",
    "outputId": "1255bc4e-d31e-41aa-b9f1-cae8cafda122"
   },
   "outputs": [
    {
     "data": {
      "text/html": [
       "<div>\n",
       "<style scoped>\n",
       "    .dataframe tbody tr th:only-of-type {\n",
       "        vertical-align: middle;\n",
       "    }\n",
       "\n",
       "    .dataframe tbody tr th {\n",
       "        vertical-align: top;\n",
       "    }\n",
       "\n",
       "    .dataframe thead th {\n",
       "        text-align: right;\n",
       "    }\n",
       "</style>\n",
       "<table border=\"1\" class=\"dataframe\">\n",
       "  <thead>\n",
       "    <tr style=\"text-align: right;\">\n",
       "      <th></th>\n",
       "      <th>isFirstVisit</th>\n",
       "      <th>totalVisits</th>\n",
       "      <th>totalPageviews</th>\n",
       "      <th>totalTimeOnSite</th>\n",
       "      <th>productPagesViewed</th>\n",
       "      <th>trafficMedium_(none)</th>\n",
       "      <th>trafficMedium_(not set)</th>\n",
       "      <th>trafficMedium_affiliate</th>\n",
       "      <th>trafficMedium_cpc</th>\n",
       "      <th>trafficMedium_cpm</th>\n",
       "      <th>trafficMedium_organic</th>\n",
       "      <th>trafficMedium_referral</th>\n",
       "    </tr>\n",
       "    <tr>\n",
       "      <th>fullVisitorId</th>\n",
       "      <th></th>\n",
       "      <th></th>\n",
       "      <th></th>\n",
       "      <th></th>\n",
       "      <th></th>\n",
       "      <th></th>\n",
       "      <th></th>\n",
       "      <th></th>\n",
       "      <th></th>\n",
       "      <th></th>\n",
       "      <th></th>\n",
       "      <th></th>\n",
       "    </tr>\n",
       "  </thead>\n",
       "  <tbody>\n",
       "    <tr>\n",
       "      <th>6044278422205391612</th>\n",
       "      <td>0</td>\n",
       "      <td>1</td>\n",
       "      <td>1</td>\n",
       "      <td>0</td>\n",
       "      <td>0</td>\n",
       "      <td>0</td>\n",
       "      <td>0</td>\n",
       "      <td>0</td>\n",
       "      <td>0</td>\n",
       "      <td>0</td>\n",
       "      <td>1</td>\n",
       "      <td>0</td>\n",
       "    </tr>\n",
       "    <tr>\n",
       "      <th>1821134574839324136</th>\n",
       "      <td>1</td>\n",
       "      <td>1</td>\n",
       "      <td>7</td>\n",
       "      <td>189</td>\n",
       "      <td>1</td>\n",
       "      <td>1</td>\n",
       "      <td>0</td>\n",
       "      <td>0</td>\n",
       "      <td>0</td>\n",
       "      <td>0</td>\n",
       "      <td>0</td>\n",
       "      <td>0</td>\n",
       "    </tr>\n",
       "    <tr>\n",
       "      <th>7043818383887881308</th>\n",
       "      <td>0</td>\n",
       "      <td>1</td>\n",
       "      <td>1</td>\n",
       "      <td>0</td>\n",
       "      <td>0</td>\n",
       "      <td>0</td>\n",
       "      <td>0</td>\n",
       "      <td>0</td>\n",
       "      <td>0</td>\n",
       "      <td>0</td>\n",
       "      <td>1</td>\n",
       "      <td>0</td>\n",
       "    </tr>\n",
       "    <tr>\n",
       "      <th>1054368481850016599</th>\n",
       "      <td>0</td>\n",
       "      <td>1</td>\n",
       "      <td>11</td>\n",
       "      <td>341</td>\n",
       "      <td>1</td>\n",
       "      <td>0</td>\n",
       "      <td>0</td>\n",
       "      <td>0</td>\n",
       "      <td>1</td>\n",
       "      <td>0</td>\n",
       "      <td>0</td>\n",
       "      <td>0</td>\n",
       "    </tr>\n",
       "    <tr>\n",
       "      <th>1237292253899580363</th>\n",
       "      <td>0</td>\n",
       "      <td>1</td>\n",
       "      <td>3</td>\n",
       "      <td>31</td>\n",
       "      <td>0</td>\n",
       "      <td>0</td>\n",
       "      <td>0</td>\n",
       "      <td>0</td>\n",
       "      <td>0</td>\n",
       "      <td>0</td>\n",
       "      <td>1</td>\n",
       "      <td>0</td>\n",
       "    </tr>\n",
       "    <tr>\n",
       "      <th>...</th>\n",
       "      <td>...</td>\n",
       "      <td>...</td>\n",
       "      <td>...</td>\n",
       "      <td>...</td>\n",
       "      <td>...</td>\n",
       "      <td>...</td>\n",
       "      <td>...</td>\n",
       "      <td>...</td>\n",
       "      <td>...</td>\n",
       "      <td>...</td>\n",
       "      <td>...</td>\n",
       "      <td>...</td>\n",
       "    </tr>\n",
       "    <tr>\n",
       "      <th>7627718815783146338</th>\n",
       "      <td>0</td>\n",
       "      <td>1</td>\n",
       "      <td>16</td>\n",
       "      <td>497</td>\n",
       "      <td>3</td>\n",
       "      <td>0</td>\n",
       "      <td>0</td>\n",
       "      <td>0</td>\n",
       "      <td>0</td>\n",
       "      <td>0</td>\n",
       "      <td>1</td>\n",
       "      <td>0</td>\n",
       "    </tr>\n",
       "    <tr>\n",
       "      <th>9865893747933434812</th>\n",
       "      <td>0</td>\n",
       "      <td>1</td>\n",
       "      <td>14</td>\n",
       "      <td>928</td>\n",
       "      <td>1</td>\n",
       "      <td>1</td>\n",
       "      <td>0</td>\n",
       "      <td>0</td>\n",
       "      <td>0</td>\n",
       "      <td>0</td>\n",
       "      <td>0</td>\n",
       "      <td>0</td>\n",
       "    </tr>\n",
       "    <tr>\n",
       "      <th>8323494343033295711</th>\n",
       "      <td>1</td>\n",
       "      <td>1</td>\n",
       "      <td>17</td>\n",
       "      <td>712</td>\n",
       "      <td>1</td>\n",
       "      <td>1</td>\n",
       "      <td>0</td>\n",
       "      <td>0</td>\n",
       "      <td>0</td>\n",
       "      <td>0</td>\n",
       "      <td>0</td>\n",
       "      <td>0</td>\n",
       "    </tr>\n",
       "    <tr>\n",
       "      <th>115604558736867206</th>\n",
       "      <td>0</td>\n",
       "      <td>1</td>\n",
       "      <td>2</td>\n",
       "      <td>54</td>\n",
       "      <td>0</td>\n",
       "      <td>0</td>\n",
       "      <td>0</td>\n",
       "      <td>0</td>\n",
       "      <td>0</td>\n",
       "      <td>1</td>\n",
       "      <td>0</td>\n",
       "      <td>0</td>\n",
       "    </tr>\n",
       "    <tr>\n",
       "      <th>1320724631178668877</th>\n",
       "      <td>0</td>\n",
       "      <td>1</td>\n",
       "      <td>3</td>\n",
       "      <td>29</td>\n",
       "      <td>0</td>\n",
       "      <td>0</td>\n",
       "      <td>0</td>\n",
       "      <td>0</td>\n",
       "      <td>0</td>\n",
       "      <td>0</td>\n",
       "      <td>1</td>\n",
       "      <td>0</td>\n",
       "    </tr>\n",
       "  </tbody>\n",
       "</table>\n",
       "<p>83146 rows × 12 columns</p>\n",
       "</div>"
      ],
      "text/plain": [
       "                     isFirstVisit  ...  trafficMedium_referral\n",
       "fullVisitorId                      ...                        \n",
       "6044278422205391612             0  ...                       0\n",
       "1821134574839324136             1  ...                       0\n",
       "7043818383887881308             0  ...                       0\n",
       "1054368481850016599             0  ...                       0\n",
       "1237292253899580363             0  ...                       0\n",
       "...                           ...  ...                     ...\n",
       "7627718815783146338             0  ...                       0\n",
       "9865893747933434812             0  ...                       0\n",
       "8323494343033295711             1  ...                       0\n",
       "115604558736867206              0  ...                       0\n",
       "1320724631178668877             0  ...                       0\n",
       "\n",
       "[83146 rows x 12 columns]"
      ]
     },
     "execution_count": 37,
     "metadata": {
      "tags": []
     },
     "output_type": "execute_result"
    }
   ],
   "source": [
    "x_train.set_index(keys='fullVisitorId', inplace=True)\n",
    "x_train"
   ]
  },
  {
   "cell_type": "code",
   "execution_count": null,
   "metadata": {
    "id": "SnYAzVrJEUUe"
   },
   "outputs": [],
   "source": [
    "# Splitting the data into training and testing for modeling\n",
    "\n",
    "index = int(len(x_train)*0.80)\n",
    "# print(index)\n",
    "\n",
    "train_X_ress = x_train[:index]\n",
    "test_X_ress = x_train[index:]\n",
    "\n",
    "train_Y_ress = y_train[:index]\n",
    "test_Y_ress = y_train[index:]"
   ]
  },
  {
   "cell_type": "code",
   "execution_count": null,
   "metadata": {
    "id": "BhXoWsnk6yLz"
   },
   "outputs": [],
   "source": [
    "# Scaling the dataset to be between 0 and 1 \n",
    "\n",
    "\n",
    "from sklearn.preprocessing import MinMaxScaler\n",
    "\n",
    "scaler = MinMaxScaler()\n",
    "fit = scaler.fit(train_X_ress)\n",
    "train_X_trans = fit.transform(train_X_ress)\n",
    "test_X_trans = fit.transform(test_X_ress)"
   ]
  },
  {
   "cell_type": "markdown",
   "metadata": {
    "id": "O2dJgKFvCzMe"
   },
   "source": [
    "# Model Building"
   ]
  },
  {
   "cell_type": "code",
   "execution_count": null,
   "metadata": {
    "id": "j5M8BsE8zr-s"
   },
   "outputs": [],
   "source": [
    "# Trying a logistic regression fit on the dataset\n",
    "\n",
    "from sklearn.linear_model import LogisticRegression"
   ]
  },
  {
   "cell_type": "code",
   "execution_count": null,
   "metadata": {
    "id": "uyq-6RNivoKD"
   },
   "outputs": [],
   "source": [
    "# Performing a grid search for the best parameters for Logistic regression\n",
    "\n",
    "from sklearn.model_selection import GridSearchCV"
   ]
  },
  {
   "cell_type": "code",
   "execution_count": null,
   "metadata": {
    "colab": {
     "base_uri": "https://localhost:8080/"
    },
    "executionInfo": {
     "elapsed": 166039,
     "status": "ok",
     "timestamp": 1608063853569,
     "user": {
      "displayName": "Maxwell Boafo",
      "photoUrl": "https://lh3.googleusercontent.com/a-/AOh14GjFVOcS-jtWoe8CJWMEz5Y71xRW550Mi7YtwlDijw=s64",
      "userId": "05496059639288395459"
     },
     "user_tz": -180
    },
    "id": "7tCVNb4dXBbs",
    "outputId": "d84d03df-515b-473d-8e4a-cad4e4bfc73a"
   },
   "outputs": [
    {
     "name": "stdout",
     "output_type": "stream",
     "text": [
      "Fitting 5 folds for each of 100 candidates, totalling 500 fits\n"
     ]
    },
    {
     "name": "stderr",
     "output_type": "stream",
     "text": [
      "[Parallel(n_jobs=3)]: Using backend LokyBackend with 3 concurrent workers.\n",
      "[Parallel(n_jobs=3)]: Done  12 tasks      | elapsed:    1.9s\n",
      "[Parallel(n_jobs=3)]: Done  66 tasks      | elapsed:   13.5s\n",
      "[Parallel(n_jobs=3)]: Done 156 tasks      | elapsed:   44.1s\n",
      "[Parallel(n_jobs=3)]: Done 282 tasks      | elapsed:  1.5min\n",
      "[Parallel(n_jobs=3)]: Done 444 tasks      | elapsed:  2.4min\n",
      "[Parallel(n_jobs=3)]: Done 500 out of 500 | elapsed:  2.8min finished\n"
     ]
    },
    {
     "data": {
      "text/plain": [
       "GridSearchCV(cv=5, error_score=nan,\n",
       "             estimator=LogisticRegression(C=1.0, class_weight=None, dual=False,\n",
       "                                          fit_intercept=True,\n",
       "                                          intercept_scaling=1, l1_ratio=None,\n",
       "                                          max_iter=100, multi_class='auto',\n",
       "                                          n_jobs=None, penalty='l2',\n",
       "                                          random_state=None, solver='lbfgs',\n",
       "                                          tol=0.0001, verbose=0,\n",
       "                                          warm_start=False),\n",
       "             iid='deprecated', n_jobs=3,\n",
       "             param_grid={'C': array([ 1.,  2.,  3.,  4.,  5.,  6.,  7.,  8.,  9., 10.]),\n",
       "                         'penalty': ['l1', 'l2'],\n",
       "                         'solver': ['newton-cg', 'lbfgs', 'liblinear', 'sag',\n",
       "                                    'saga']},\n",
       "             pre_dispatch='2*n_jobs', refit=True, return_train_score=False,\n",
       "             scoring=None, verbose=5)"
      ]
     },
     "execution_count": 47,
     "metadata": {
      "tags": []
     },
     "output_type": "execute_result"
    }
   ],
   "source": [
    "parameters = {\n",
    "    'C': np.linspace(1, 10, 10),\n",
    "    'solver' : ['newton-cg', 'lbfgs', 'liblinear', 'sag', 'saga'],\n",
    "    'penalty' : ['l1', 'l2'],\n",
    "              }\n",
    "lr = LogisticRegression()\n",
    "clf = GridSearchCV(lr, parameters, cv=5, verbose=5, n_jobs=3)\n",
    "clf.fit(train_X_trans, train_Y_ress.ravel())"
   ]
  },
  {
   "cell_type": "code",
   "execution_count": null,
   "metadata": {
    "colab": {
     "base_uri": "https://localhost:8080/"
    },
    "executionInfo": {
     "elapsed": 723,
     "status": "ok",
     "timestamp": 1608065143501,
     "user": {
      "displayName": "Maxwell Boafo",
      "photoUrl": "https://lh3.googleusercontent.com/a-/AOh14GjFVOcS-jtWoe8CJWMEz5Y71xRW550Mi7YtwlDijw=s64",
      "userId": "05496059639288395459"
     },
     "user_tz": -180
    },
    "id": "CNdK7K3-r9_r",
    "outputId": "3aecd8d3-c26b-47ad-e3c9-086d16c0113f"
   },
   "outputs": [
    {
     "data": {
      "text/plain": [
       "LogisticRegression(C=2.0, class_weight=None, dual=False, fit_intercept=True,\n",
       "                   intercept_scaling=1, l1_ratio=None, max_iter=100,\n",
       "                   multi_class='auto', n_jobs=None, penalty='l1',\n",
       "                   random_state=None, solver='liblinear', tol=0.0001, verbose=0,\n",
       "                   warm_start=False)"
      ]
     },
     "execution_count": 48,
     "metadata": {
      "tags": []
     },
     "output_type": "execute_result"
    }
   ],
   "source": [
    "clf.best_estimator_"
   ]
  },
  {
   "cell_type": "code",
   "execution_count": null,
   "metadata": {
    "id": "PPDqkOYP0yK_"
   },
   "outputs": [],
   "source": [
    "# solver{‘newton-cg’, ‘lbfgs’, ‘liblinear’, ‘sag’, ‘saga’}, default=’lbfgs’\n",
    "\n",
    "penalty = 'l1'\n",
    "solver = 'liblinear'\n",
    "# class_weight = 'balanced' #{0:1, 1:80}  \n",
    "max_iter = 100\n",
    "C = 2.0\n",
    "# random_state = 1\n",
    "log_reg = LogisticRegression(solver = solver, penalty=penalty, max_iter=max_iter, C=C)"
   ]
  },
  {
   "cell_type": "code",
   "execution_count": null,
   "metadata": {
    "id": "vSKxL_Cv5F-o"
   },
   "outputs": [],
   "source": [
    "fit = log_reg.fit(train_X_trans, train_Y_ress)"
   ]
  },
  {
   "cell_type": "code",
   "execution_count": null,
   "metadata": {
    "colab": {
     "base_uri": "https://localhost:8080/"
    },
    "executionInfo": {
     "elapsed": 648,
     "status": "ok",
     "timestamp": 1608121748598,
     "user": {
      "displayName": "Maxwell Boafo",
      "photoUrl": "https://lh3.googleusercontent.com/a-/AOh14GjFVOcS-jtWoe8CJWMEz5Y71xRW550Mi7YtwlDijw=s64",
      "userId": "05496059639288395459"
     },
     "user_tz": -180
    },
    "id": "a0uCVMxB50O4",
    "outputId": "16beb741-7e0f-4634-b953-4d38381844d4"
   },
   "outputs": [
    {
     "name": "stdout",
     "output_type": "stream",
     "text": [
      "Training accuracy:0.96\n",
      "Validation accuracy:0.96\n"
     ]
    }
   ],
   "source": [
    "# Measuring classification accuracy\n",
    "\n",
    "from sklearn.metrics import accuracy_score\n",
    "\n",
    "train_X_pred = fit.predict(train_X_trans)\n",
    "test_X_pred = fit.predict(test_X_trans)\n",
    "\n",
    "print('Training accuracy:{0:.2f}'.format(accuracy_score(train_Y_ress, train_X_pred)))\n",
    "print('Validation accuracy:{0:.2f}'.format(accuracy_score(test_Y_ress, test_X_pred)))"
   ]
  },
  {
   "cell_type": "code",
   "execution_count": null,
   "metadata": {
    "colab": {
     "base_uri": "https://localhost:8080/"
    },
    "executionInfo": {
     "elapsed": 850,
     "status": "ok",
     "timestamp": 1608121760750,
     "user": {
      "displayName": "Maxwell Boafo",
      "photoUrl": "https://lh3.googleusercontent.com/a-/AOh14GjFVOcS-jtWoe8CJWMEz5Y71xRW550Mi7YtwlDijw=s64",
      "userId": "05496059639288395459"
     },
     "user_tz": -180
    },
    "id": "VC_UeQ6b8du5",
    "outputId": "ef76a2cc-1927-4e6e-919c-e149295eefa2"
   },
   "outputs": [
    {
     "name": "stdout",
     "output_type": "stream",
     "text": [
      "              precision    recall  f1-score   support\n",
      "\n",
      "           0       0.94      0.98      0.96      8393\n",
      "           1       0.98      0.93      0.95      8237\n",
      "\n",
      "    accuracy                           0.96     16630\n",
      "   macro avg       0.96      0.96      0.96     16630\n",
      "weighted avg       0.96      0.96      0.96     16630\n",
      "\n"
     ]
    }
   ],
   "source": [
    "# Evaluation metrics for Logistic regression including precision, recall, f1-score, roc accuraccy score\n",
    "\n",
    "from sklearn.metrics import classification_report\n",
    "\n",
    "report = classification_report(test_Y_ress, test_X_pred)\n",
    "print(report)"
   ]
  },
  {
   "cell_type": "code",
   "execution_count": null,
   "metadata": {
    "colab": {
     "base_uri": "https://localhost:8080/",
     "height": 295
    },
    "executionInfo": {
     "elapsed": 730,
     "status": "ok",
     "timestamp": 1608121856229,
     "user": {
      "displayName": "Maxwell Boafo",
      "photoUrl": "https://lh3.googleusercontent.com/a-/AOh14GjFVOcS-jtWoe8CJWMEz5Y71xRW550Mi7YtwlDijw=s64",
      "userId": "05496059639288395459"
     },
     "user_tz": -180
    },
    "id": "ClumLRnI_vxR",
    "outputId": "7affe9c0-4703-45f6-dea1-528edd106bf5"
   },
   "outputs": [
    {
     "data": {
      "image/png": "[encoded data removed]",
      "text/plain": [
       "<Figure size 432x288 with 1 Axes>"
      ]
     },
     "metadata": {
      "needs_background": "light",
      "tags": []
     },
     "output_type": "display_data"
    }
   ],
   "source": [
    "# confusion matrix plot \n",
    "\n",
    "from sklearn.metrics import confusion_matrix\n",
    "\n",
    "plt.figure(figsize=(6,4))\n",
    "\n",
    "cm = confusion_matrix(test_Y_ress, test_X_pred)\n",
    "sns.heatmap(cm, annot = True, cbar = False, fmt = \"d\", linewidths = .5, cmap = \"Blues\")\n",
    "plt.xlabel(\"Predicted class\")\n",
    "plt.ylabel(\"Actual class\")\n",
    "plt.title(\"Confusion Matrix\");"
   ]
  },
  {
   "cell_type": "code",
   "execution_count": null,
   "metadata": {
    "id": "CnbRPiLs4ksE"
   },
   "outputs": [],
   "source": [
    "from sklearn.metrics import roc_curve, roc_auc_score"
   ]
  },
  {
   "cell_type": "code",
   "execution_count": null,
   "metadata": {
    "colab": {
     "base_uri": "https://localhost:8080/"
    },
    "executionInfo": {
     "elapsed": 737,
     "status": "ok",
     "timestamp": 1608121911651,
     "user": {
      "displayName": "Maxwell Boafo",
      "photoUrl": "https://lh3.googleusercontent.com/a-/AOh14GjFVOcS-jtWoe8CJWMEz5Y71xRW550Mi7YtwlDijw=s64",
      "userId": "05496059639288395459"
     },
     "user_tz": -180
    },
    "id": "5JwnIJE88Uaa",
    "outputId": "0f071cf4-7de3-4523-f23c-932da43807ed"
   },
   "outputs": [
    {
     "name": "stdout",
     "output_type": "stream",
     "text": [
      "Logistic Regression:  0.96\n"
     ]
    }
   ],
   "source": [
    "print('Logistic Regression: ', roc_auc_score(train_Y_ress, train_X_pred).round(2))"
   ]
  },
  {
   "cell_type": "code",
   "execution_count": null,
   "metadata": {
    "id": "YMhCNKDt7_Ak"
   },
   "outputs": [],
   "source": [
    "log_fpr, log_tpr, log_thresold = roc_curve(test_Y_ress, test_X_pred)"
   ]
  },
  {
   "cell_type": "code",
   "execution_count": null,
   "metadata": {
    "colab": {
     "base_uri": "https://localhost:8080/",
     "height": 520
    },
    "executionInfo": {
     "elapsed": 773,
     "status": "ok",
     "timestamp": 1608121923400,
     "user": {
      "displayName": "Maxwell Boafo",
      "photoUrl": "https://lh3.googleusercontent.com/a-/AOh14GjFVOcS-jtWoe8CJWMEz5Y71xRW550Mi7YtwlDijw=s64",
      "userId": "05496059639288395459"
     },
     "user_tz": -180
    },
    "id": "5Lp_qT_x4qxJ",
    "outputId": "c765bd43-faa4-4c4a-e756-d3b0ced8fa6d"
   },
   "outputs": [
    {
     "data": {
      "image/png": "[encoded data removed]",
      "text/plain": [
       "<Figure size 864x576 with 1 Axes>"
      ]
     },
     "metadata": {
      "needs_background": "light",
      "tags": []
     },
     "output_type": "display_data"
    }
   ],
   "source": [
    "def logistic_roc_curve(log_fpr, log_tpr):\n",
    "    plt.figure(figsize=(12,8))\n",
    "    plt.title('Logistic Regression ROC Curve', fontsize=16)\n",
    "    plt.plot(log_fpr, log_tpr, 'b-', linewidth=2)\n",
    "    plt.plot([0, 1], [0, 1], 'r--')\n",
    "    plt.xlabel('False Positive Rate', fontsize=16)\n",
    "    plt.ylabel('True Positive Rate', fontsize=16)\n",
    "    plt.axis([-0.01,1,0,1])\n",
    "\n",
    "logistic_roc_curve(log_fpr, log_tpr)\n",
    "plt.show()"
   ]
  },
  {
   "cell_type": "code",
   "execution_count": null,
   "metadata": {
    "id": "StoyQZONMede"
   },
   "outputs": [],
   "source": [
    "# Trying other ML algorithm classifiers to compare training results\n",
    "\n",
    "from sklearn.svm import SVC\n",
    "from sklearn.neighbors import KNeighborsClassifier\n",
    "from sklearn.tree import DecisionTreeClassifier\n",
    "from sklearn.ensemble import RandomForestClassifier"
   ]
  },
  {
   "cell_type": "code",
   "execution_count": null,
   "metadata": {
    "id": "JgB0I5jnMr0e"
   },
   "outputs": [],
   "source": [
    "# Finding the best estimators using grid search for each classifier\n",
    "\n",
    "knears_params = {\"n_neighbors\": list(range(2,5,1)), 'algorithm': ['auto', 'ball_tree', 'kd_tree', 'brute']}\n",
    "\n",
    "grid_knears = GridSearchCV(KNeighborsClassifier(), knears_params)\n",
    "grid_knears.fit(train_X_trans, train_Y_ress.ravel())\n",
    "# KNears best estimator\n",
    "knears_neighbors = grid_knears.best_estimator_\n",
    "\n",
    "# Support Vector Classifier\n",
    "svc_params = {'C': [0.5, 0.7, 0.9, 1], 'kernel': ['rbf', 'poly', 'sigmoid', 'linear']}\n",
    "grid_svc = GridSearchCV(SVC(), svc_params)\n",
    "grid_svc.fit(train_X_trans, train_Y_ress.ravel())\n",
    "\n",
    "# SVC best estimator\n",
    "svc = grid_svc.best_estimator_\n",
    "\n",
    "# DecisionTree Classifier\n",
    "tree_params = {\"criterion\": [\"gini\", \"entropy\"], \"max_depth\": list(range(2,4,1)), \n",
    "              \"min_samples_leaf\": list(range(5,7,1))}\n",
    "grid_tree = GridSearchCV(DecisionTreeClassifier(), tree_params)\n",
    "grid_tree.fit(train_X_trans, train_Y_ress.ravel())\n",
    "\n",
    "# tree best estimator\n",
    "tree_clf = grid_tree.best_estimator_"
   ]
  },
  {
   "cell_type": "code",
   "execution_count": null,
   "metadata": {
    "id": "YiHD3kFbTzmo"
   },
   "outputs": [],
   "source": [
    "# Prediction results for the other classifiers using test data\n",
    "\n",
    "from sklearn.model_selection import cross_val_predict\n",
    "\n",
    "knears_pred = cross_val_predict(knears_neighbors, train_X_trans, train_Y_ress, cv=5)\n",
    "\n",
    "svc_pred = cross_val_predict(svc, train_X_trans, train_Y_ress, cv=5,\n",
    "                             method=\"decision_function\")\n",
    "\n",
    "tree_pred = cross_val_predict(tree_clf, train_X_trans, train_Y_ress, cv=5)"
   ]
  },
  {
   "cell_type": "code",
   "execution_count": null,
   "metadata": {
    "colab": {
     "base_uri": "https://localhost:8080/"
    },
    "executionInfo": {
     "elapsed": 737,
     "status": "ok",
     "timestamp": 1608124073182,
     "user": {
      "displayName": "Maxwell Boafo",
      "photoUrl": "https://lh3.googleusercontent.com/a-/AOh14GjFVOcS-jtWoe8CJWMEz5Y71xRW550Mi7YtwlDijw=s64",
      "userId": "05496059639288395459"
     },
     "user_tz": -180
    },
    "id": "Ll72FIjWT1Ln",
    "outputId": "0637eb04-abde-4b3b-9227-e755437b9fdf"
   },
   "outputs": [
    {
     "name": "stdout",
     "output_type": "stream",
     "text": [
      "KNears Neighbors:  0.95\n",
      "Support Vector Classifier:  0.99\n",
      "Decision Tree Classifier:  0.93\n"
     ]
    }
   ],
   "source": [
    "# Roc accuraccy scores for the other ML classifiers\n",
    "\n",
    "from sklearn.metrics import roc_auc_score\n",
    "print('KNears Neighbors: ', roc_auc_score(train_Y_ress, knears_pred).round(2))\n",
    "print('Support Vector Classifier: ', roc_auc_score(train_Y_ress, svc_pred).round(2))\n",
    "print('Decision Tree Classifier: ', roc_auc_score(train_Y_ress, tree_pred).round(2))"
   ]
  },
  {
   "cell_type": "code",
   "execution_count": null,
   "metadata": {
    "id": "9f0_sTcw6rZz"
   },
   "outputs": [],
   "source": [
    "# Test data prediction for SVM\n",
    "\n",
    "svm_pred = svc.predict(test_X_trans)"
   ]
  },
  {
   "cell_type": "code",
   "execution_count": null,
   "metadata": {
    "colab": {
     "base_uri": "https://localhost:8080/"
    },
    "executionInfo": {
     "elapsed": 669,
     "status": "ok",
     "timestamp": 1608124227535,
     "user": {
      "displayName": "Maxwell Boafo",
      "photoUrl": "https://lh3.googleusercontent.com/a-/AOh14GjFVOcS-jtWoe8CJWMEz5Y71xRW550Mi7YtwlDijw=s64",
      "userId": "05496059639288395459"
     },
     "user_tz": -180
    },
    "id": "bZT1RcIq1DK-",
    "outputId": "921856cd-03d2-41cf-f783-8371c739b10a"
   },
   "outputs": [
    {
     "name": "stdout",
     "output_type": "stream",
     "text": [
      "              precision    recall  f1-score   support\n",
      "\n",
      "           0       0.92      0.99      0.95      8393\n",
      "           1       0.99      0.92      0.95      8237\n",
      "\n",
      "    accuracy                           0.95     16630\n",
      "   macro avg       0.96      0.95      0.95     16630\n",
      "weighted avg       0.95      0.95      0.95     16630\n",
      "\n"
     ]
    }
   ],
   "source": [
    "# Evaluation metrics for Logistic regression including precision, recall, f1-score, roc accuraccy score\n",
    "\n",
    "from sklearn.metrics import classification_report\n",
    "\n",
    "report = classification_report(test_Y_ress, svm_pred)\n",
    "print(report)"
   ]
  },
  {
   "cell_type": "code",
   "execution_count": null,
   "metadata": {
    "colab": {
     "base_uri": "https://localhost:8080/",
     "height": 295
    },
    "executionInfo": {
     "elapsed": 668,
     "status": "ok",
     "timestamp": 1608124230848,
     "user": {
      "displayName": "Maxwell Boafo",
      "photoUrl": "https://lh3.googleusercontent.com/a-/AOh14GjFVOcS-jtWoe8CJWMEz5Y71xRW550Mi7YtwlDijw=s64",
      "userId": "05496059639288395459"
     },
     "user_tz": -180
    },
    "id": "f-HOo7Rx1FWY",
    "outputId": "a54739f2-de15-45cf-f144-df9a2c12f1d2"
   },
   "outputs": [
    {
     "data": {
      "image/png": "[encoded data removed]",
      "text/plain": [
       "<Figure size 432x288 with 1 Axes>"
      ]
     },
     "metadata": {
      "needs_background": "light",
      "tags": []
     },
     "output_type": "display_data"
    }
   ],
   "source": [
    "from sklearn.metrics import confusion_matrix\n",
    "\n",
    "plt.figure(figsize=(6,4))\n",
    "\n",
    "cm = confusion_matrix(test_Y_ress, svm_pred)\n",
    "sns.heatmap(cm, annot = True, cbar = False, fmt = \"d\", linewidths = .5, cmap = \"Blues\")\n",
    "plt.xlabel(\"Predicted class\")\n",
    "plt.ylabel(\"Actual class\")\n",
    "plt.title(\"Confusion Matrix\");"
   ]
  },
  {
   "cell_type": "code",
   "execution_count": null,
   "metadata": {
    "id": "d4MdR1W_dnDB"
   },
   "outputs": [],
   "source": [
    "svc_fpr, svc_tpr, svc_thresold = roc_curve(test_Y_ress, svm_pred)"
   ]
  },
  {
   "cell_type": "code",
   "execution_count": null,
   "metadata": {
    "colab": {
     "base_uri": "https://localhost:8080/",
     "height": 520
    },
    "executionInfo": {
     "elapsed": 744,
     "status": "ok",
     "timestamp": 1608124423901,
     "user": {
      "displayName": "Maxwell Boafo",
      "photoUrl": "https://lh3.googleusercontent.com/a-/AOh14GjFVOcS-jtWoe8CJWMEz5Y71xRW550Mi7YtwlDijw=s64",
      "userId": "05496059639288395459"
     },
     "user_tz": -180
    },
    "id": "O7FRNiL6fuEn",
    "outputId": "3ae2a3f6-f1e1-481f-c438-a1ba1d88073c"
   },
   "outputs": [
    {
     "data": {
      "image/png": "[encoded data removed]",
      "text/plain": [
       "<Figure size 864x576 with 1 Axes>"
      ]
     },
     "metadata": {
      "needs_background": "light",
      "tags": []
     },
     "output_type": "display_data"
    }
   ],
   "source": [
    "def svc_roc_curve(svc_fpr, svc_tpr):\n",
    "    plt.figure(figsize=(12,8))\n",
    "    plt.title('Support Vector Machine ROC Curve', fontsize=16)\n",
    "    plt.plot(svc_fpr, svc_tpr, 'b-', linewidth=2)\n",
    "    plt.plot([0, 1], [0, 1], 'r--')\n",
    "    plt.xlabel('False Positive Rate', fontsize=16)\n",
    "    plt.ylabel('True Positive Rate', fontsize=16)\n",
    "    plt.axis([-0.01,1,0,1])\n",
    "\n",
    "svc_roc_curve(svc_fpr, svc_tpr)\n",
    "plt.show()"
   ]
  },
  {
   "cell_type": "markdown",
   "metadata": {
    "id": "dpMnaipYAXvc"
   },
   "source": [
    "Based on the AUC score results and the classification reports the best Machine learning classifier for the data is Support Vector Machine classifier "
   ]
  },
  {
   "cell_type": "markdown",
   "metadata": {
    "id": "1QUgVjxVCVlL"
   },
   "source": [
    "# Making predictions on the final testing data"
   ]
  },
  {
   "cell_type": "code",
   "execution_count": null,
   "metadata": {
    "colab": {
     "base_uri": "https://localhost:8080/",
     "height": 431
    },
    "executionInfo": {
     "elapsed": 683,
     "status": "ok",
     "timestamp": 1608124466962,
     "user": {
      "displayName": "Maxwell Boafo",
      "photoUrl": "https://lh3.googleusercontent.com/a-/AOh14GjFVOcS-jtWoe8CJWMEz5Y71xRW550Mi7YtwlDijw=s64",
      "userId": "05496059639288395459"
     },
     "user_tz": -180
    },
    "id": "XAdVj-XZA7EZ",
    "outputId": "e240b4a3-1c6e-4b8d-b314-2514618e1963"
   },
   "outputs": [
    {
     "data": {
      "text/html": [
       "<div>\n",
       "<style scoped>\n",
       "    .dataframe tbody tr th:only-of-type {\n",
       "        vertical-align: middle;\n",
       "    }\n",
       "\n",
       "    .dataframe tbody tr th {\n",
       "        vertical-align: top;\n",
       "    }\n",
       "\n",
       "    .dataframe thead th {\n",
       "        text-align: right;\n",
       "    }\n",
       "</style>\n",
       "<table border=\"1\" class=\"dataframe\">\n",
       "  <thead>\n",
       "    <tr style=\"text-align: right;\">\n",
       "      <th></th>\n",
       "      <th>trafficMedium</th>\n",
       "      <th>isFirstVisit</th>\n",
       "      <th>totalVisits</th>\n",
       "      <th>totalPageviews</th>\n",
       "      <th>totalTimeOnSite</th>\n",
       "      <th>productPagesViewed</th>\n",
       "    </tr>\n",
       "    <tr>\n",
       "      <th>fullVisitorId</th>\n",
       "      <th></th>\n",
       "      <th></th>\n",
       "      <th></th>\n",
       "      <th></th>\n",
       "      <th></th>\n",
       "      <th></th>\n",
       "    </tr>\n",
       "  </thead>\n",
       "  <tbody>\n",
       "    <tr>\n",
       "      <th>788269418281542126</th>\n",
       "      <td>organic</td>\n",
       "      <td>1</td>\n",
       "      <td>1</td>\n",
       "      <td>3</td>\n",
       "      <td>85</td>\n",
       "      <td>1</td>\n",
       "    </tr>\n",
       "    <tr>\n",
       "      <th>4029010814852735558</th>\n",
       "      <td>organic</td>\n",
       "      <td>1</td>\n",
       "      <td>1</td>\n",
       "      <td>1</td>\n",
       "      <td>0</td>\n",
       "      <td>0</td>\n",
       "    </tr>\n",
       "    <tr>\n",
       "      <th>1290376851612846048</th>\n",
       "      <td>cpm</td>\n",
       "      <td>0</td>\n",
       "      <td>1</td>\n",
       "      <td>1</td>\n",
       "      <td>0</td>\n",
       "      <td>0</td>\n",
       "    </tr>\n",
       "    <tr>\n",
       "      <th>5426533588897404514</th>\n",
       "      <td>cpm</td>\n",
       "      <td>0</td>\n",
       "      <td>1</td>\n",
       "      <td>2</td>\n",
       "      <td>9</td>\n",
       "      <td>0</td>\n",
       "    </tr>\n",
       "    <tr>\n",
       "      <th>2372356979576453844</th>\n",
       "      <td>cpm</td>\n",
       "      <td>0</td>\n",
       "      <td>1</td>\n",
       "      <td>10</td>\n",
       "      <td>251</td>\n",
       "      <td>0</td>\n",
       "    </tr>\n",
       "    <tr>\n",
       "      <th>...</th>\n",
       "      <td>...</td>\n",
       "      <td>...</td>\n",
       "      <td>...</td>\n",
       "      <td>...</td>\n",
       "      <td>...</td>\n",
       "      <td>...</td>\n",
       "    </tr>\n",
       "    <tr>\n",
       "      <th>8048886714743827258</th>\n",
       "      <td>(none)</td>\n",
       "      <td>1</td>\n",
       "      <td>1</td>\n",
       "      <td>1</td>\n",
       "      <td>0</td>\n",
       "      <td>0</td>\n",
       "    </tr>\n",
       "    <tr>\n",
       "      <th>6153501905266331081</th>\n",
       "      <td>(none)</td>\n",
       "      <td>0</td>\n",
       "      <td>1</td>\n",
       "      <td>1</td>\n",
       "      <td>0</td>\n",
       "      <td>0</td>\n",
       "    </tr>\n",
       "    <tr>\n",
       "      <th>9769058468255015745</th>\n",
       "      <td>(none)</td>\n",
       "      <td>1</td>\n",
       "      <td>1</td>\n",
       "      <td>3</td>\n",
       "      <td>75</td>\n",
       "      <td>2</td>\n",
       "    </tr>\n",
       "    <tr>\n",
       "      <th>2574865330338380275</th>\n",
       "      <td>(none)</td>\n",
       "      <td>1</td>\n",
       "      <td>1</td>\n",
       "      <td>4</td>\n",
       "      <td>1758</td>\n",
       "      <td>0</td>\n",
       "    </tr>\n",
       "    <tr>\n",
       "      <th>15946513888562463</th>\n",
       "      <td>(none)</td>\n",
       "      <td>1</td>\n",
       "      <td>1</td>\n",
       "      <td>11</td>\n",
       "      <td>356</td>\n",
       "      <td>1</td>\n",
       "    </tr>\n",
       "  </tbody>\n",
       "</table>\n",
       "<p>137946 rows × 6 columns</p>\n",
       "</div>"
      ],
      "text/plain": [
       "                    trafficMedium  ...  productPagesViewed\n",
       "fullVisitorId                      ...                    \n",
       "788269418281542126        organic  ...                   1\n",
       "4029010814852735558       organic  ...                   0\n",
       "1290376851612846048           cpm  ...                   0\n",
       "5426533588897404514           cpm  ...                   0\n",
       "2372356979576453844           cpm  ...                   0\n",
       "...                           ...  ...                 ...\n",
       "8048886714743827258        (none)  ...                   0\n",
       "6153501905266331081        (none)  ...                   0\n",
       "9769058468255015745        (none)  ...                   2\n",
       "2574865330338380275        (none)  ...                   0\n",
       "15946513888562463          (none)  ...                   1\n",
       "\n",
       "[137946 rows x 6 columns]"
      ]
     },
     "execution_count": 61,
     "metadata": {
      "tags": []
     },
     "output_type": "execute_result"
    }
   ],
   "source": [
    "df_test"
   ]
  },
  {
   "cell_type": "code",
   "execution_count": null,
   "metadata": {
    "colab": {
     "base_uri": "https://localhost:8080/",
     "height": 468
    },
    "executionInfo": {
     "elapsed": 718,
     "status": "ok",
     "timestamp": 1608124483670,
     "user": {
      "displayName": "Maxwell Boafo",
      "photoUrl": "https://lh3.googleusercontent.com/a-/AOh14GjFVOcS-jtWoe8CJWMEz5Y71xRW550Mi7YtwlDijw=s64",
      "userId": "05496059639288395459"
     },
     "user_tz": -180
    },
    "id": "k9n82zpvDCw9",
    "outputId": "13598c67-7680-4755-81fb-dffaa75f8a73"
   },
   "outputs": [
    {
     "data": {
      "text/html": [
       "<div>\n",
       "<style scoped>\n",
       "    .dataframe tbody tr th:only-of-type {\n",
       "        vertical-align: middle;\n",
       "    }\n",
       "\n",
       "    .dataframe tbody tr th {\n",
       "        vertical-align: top;\n",
       "    }\n",
       "\n",
       "    .dataframe thead th {\n",
       "        text-align: right;\n",
       "    }\n",
       "</style>\n",
       "<table border=\"1\" class=\"dataframe\">\n",
       "  <thead>\n",
       "    <tr style=\"text-align: right;\">\n",
       "      <th></th>\n",
       "      <th>isFirstVisit</th>\n",
       "      <th>totalVisits</th>\n",
       "      <th>totalPageviews</th>\n",
       "      <th>totalTimeOnSite</th>\n",
       "      <th>productPagesViewed</th>\n",
       "      <th>trafficMedium_(none)</th>\n",
       "      <th>trafficMedium_(not set)</th>\n",
       "      <th>trafficMedium_affiliate</th>\n",
       "      <th>trafficMedium_cpc</th>\n",
       "      <th>trafficMedium_cpm</th>\n",
       "      <th>trafficMedium_organic</th>\n",
       "      <th>trafficMedium_referral</th>\n",
       "    </tr>\n",
       "    <tr>\n",
       "      <th>fullVisitorId</th>\n",
       "      <th></th>\n",
       "      <th></th>\n",
       "      <th></th>\n",
       "      <th></th>\n",
       "      <th></th>\n",
       "      <th></th>\n",
       "      <th></th>\n",
       "      <th></th>\n",
       "      <th></th>\n",
       "      <th></th>\n",
       "      <th></th>\n",
       "      <th></th>\n",
       "    </tr>\n",
       "  </thead>\n",
       "  <tbody>\n",
       "    <tr>\n",
       "      <th>788269418281542126</th>\n",
       "      <td>1</td>\n",
       "      <td>1</td>\n",
       "      <td>3</td>\n",
       "      <td>85</td>\n",
       "      <td>1</td>\n",
       "      <td>0</td>\n",
       "      <td>0</td>\n",
       "      <td>0</td>\n",
       "      <td>0</td>\n",
       "      <td>0</td>\n",
       "      <td>1</td>\n",
       "      <td>0</td>\n",
       "    </tr>\n",
       "    <tr>\n",
       "      <th>4029010814852735558</th>\n",
       "      <td>1</td>\n",
       "      <td>1</td>\n",
       "      <td>1</td>\n",
       "      <td>0</td>\n",
       "      <td>0</td>\n",
       "      <td>0</td>\n",
       "      <td>0</td>\n",
       "      <td>0</td>\n",
       "      <td>0</td>\n",
       "      <td>0</td>\n",
       "      <td>1</td>\n",
       "      <td>0</td>\n",
       "    </tr>\n",
       "    <tr>\n",
       "      <th>1290376851612846048</th>\n",
       "      <td>0</td>\n",
       "      <td>1</td>\n",
       "      <td>1</td>\n",
       "      <td>0</td>\n",
       "      <td>0</td>\n",
       "      <td>0</td>\n",
       "      <td>0</td>\n",
       "      <td>0</td>\n",
       "      <td>0</td>\n",
       "      <td>1</td>\n",
       "      <td>0</td>\n",
       "      <td>0</td>\n",
       "    </tr>\n",
       "    <tr>\n",
       "      <th>5426533588897404514</th>\n",
       "      <td>0</td>\n",
       "      <td>1</td>\n",
       "      <td>2</td>\n",
       "      <td>9</td>\n",
       "      <td>0</td>\n",
       "      <td>0</td>\n",
       "      <td>0</td>\n",
       "      <td>0</td>\n",
       "      <td>0</td>\n",
       "      <td>1</td>\n",
       "      <td>0</td>\n",
       "      <td>0</td>\n",
       "    </tr>\n",
       "    <tr>\n",
       "      <th>2372356979576453844</th>\n",
       "      <td>0</td>\n",
       "      <td>1</td>\n",
       "      <td>10</td>\n",
       "      <td>251</td>\n",
       "      <td>0</td>\n",
       "      <td>0</td>\n",
       "      <td>0</td>\n",
       "      <td>0</td>\n",
       "      <td>0</td>\n",
       "      <td>1</td>\n",
       "      <td>0</td>\n",
       "      <td>0</td>\n",
       "    </tr>\n",
       "    <tr>\n",
       "      <th>...</th>\n",
       "      <td>...</td>\n",
       "      <td>...</td>\n",
       "      <td>...</td>\n",
       "      <td>...</td>\n",
       "      <td>...</td>\n",
       "      <td>...</td>\n",
       "      <td>...</td>\n",
       "      <td>...</td>\n",
       "      <td>...</td>\n",
       "      <td>...</td>\n",
       "      <td>...</td>\n",
       "      <td>...</td>\n",
       "    </tr>\n",
       "    <tr>\n",
       "      <th>8048886714743827258</th>\n",
       "      <td>1</td>\n",
       "      <td>1</td>\n",
       "      <td>1</td>\n",
       "      <td>0</td>\n",
       "      <td>0</td>\n",
       "      <td>1</td>\n",
       "      <td>0</td>\n",
       "      <td>0</td>\n",
       "      <td>0</td>\n",
       "      <td>0</td>\n",
       "      <td>0</td>\n",
       "      <td>0</td>\n",
       "    </tr>\n",
       "    <tr>\n",
       "      <th>6153501905266331081</th>\n",
       "      <td>0</td>\n",
       "      <td>1</td>\n",
       "      <td>1</td>\n",
       "      <td>0</td>\n",
       "      <td>0</td>\n",
       "      <td>1</td>\n",
       "      <td>0</td>\n",
       "      <td>0</td>\n",
       "      <td>0</td>\n",
       "      <td>0</td>\n",
       "      <td>0</td>\n",
       "      <td>0</td>\n",
       "    </tr>\n",
       "    <tr>\n",
       "      <th>9769058468255015745</th>\n",
       "      <td>1</td>\n",
       "      <td>1</td>\n",
       "      <td>3</td>\n",
       "      <td>75</td>\n",
       "      <td>2</td>\n",
       "      <td>1</td>\n",
       "      <td>0</td>\n",
       "      <td>0</td>\n",
       "      <td>0</td>\n",
       "      <td>0</td>\n",
       "      <td>0</td>\n",
       "      <td>0</td>\n",
       "    </tr>\n",
       "    <tr>\n",
       "      <th>2574865330338380275</th>\n",
       "      <td>1</td>\n",
       "      <td>1</td>\n",
       "      <td>4</td>\n",
       "      <td>1758</td>\n",
       "      <td>0</td>\n",
       "      <td>1</td>\n",
       "      <td>0</td>\n",
       "      <td>0</td>\n",
       "      <td>0</td>\n",
       "      <td>0</td>\n",
       "      <td>0</td>\n",
       "      <td>0</td>\n",
       "    </tr>\n",
       "    <tr>\n",
       "      <th>15946513888562463</th>\n",
       "      <td>1</td>\n",
       "      <td>1</td>\n",
       "      <td>11</td>\n",
       "      <td>356</td>\n",
       "      <td>1</td>\n",
       "      <td>1</td>\n",
       "      <td>0</td>\n",
       "      <td>0</td>\n",
       "      <td>0</td>\n",
       "      <td>0</td>\n",
       "      <td>0</td>\n",
       "      <td>0</td>\n",
       "    </tr>\n",
       "  </tbody>\n",
       "</table>\n",
       "<p>137946 rows × 12 columns</p>\n",
       "</div>"
      ],
      "text/plain": [
       "                     isFirstVisit  ...  trafficMedium_referral\n",
       "fullVisitorId                      ...                        \n",
       "788269418281542126              1  ...                       0\n",
       "4029010814852735558             1  ...                       0\n",
       "1290376851612846048             0  ...                       0\n",
       "5426533588897404514             0  ...                       0\n",
       "2372356979576453844             0  ...                       0\n",
       "...                           ...  ...                     ...\n",
       "8048886714743827258             1  ...                       0\n",
       "6153501905266331081             0  ...                       0\n",
       "9769058468255015745             1  ...                       0\n",
       "2574865330338380275             1  ...                       0\n",
       "15946513888562463               1  ...                       0\n",
       "\n",
       "[137946 rows x 12 columns]"
      ]
     },
     "execution_count": 62,
     "metadata": {
      "tags": []
     },
     "output_type": "execute_result"
    }
   ],
   "source": [
    "df_test = pd.get_dummies(data=df_test, columns=['trafficMedium'])\n",
    "df_test"
   ]
  },
  {
   "cell_type": "code",
   "execution_count": null,
   "metadata": {
    "colab": {
     "base_uri": "https://localhost:8080/",
     "height": 468
    },
    "executionInfo": {
     "elapsed": 679,
     "status": "ok",
     "timestamp": 1608124506021,
     "user": {
      "displayName": "Maxwell Boafo",
      "photoUrl": "https://lh3.googleusercontent.com/a-/AOh14GjFVOcS-jtWoe8CJWMEz5Y71xRW550Mi7YtwlDijw=s64",
      "userId": "05496059639288395459"
     },
     "user_tz": -180
    },
    "id": "2-acilOsD2gF",
    "outputId": "b7c9ad31-710a-47d1-81dd-f5771b1d29c8"
   },
   "outputs": [
    {
     "data": {
      "text/html": [
       "<div>\n",
       "<style scoped>\n",
       "    .dataframe tbody tr th:only-of-type {\n",
       "        vertical-align: middle;\n",
       "    }\n",
       "\n",
       "    .dataframe tbody tr th {\n",
       "        vertical-align: top;\n",
       "    }\n",
       "\n",
       "    .dataframe thead th {\n",
       "        text-align: right;\n",
       "    }\n",
       "</style>\n",
       "<table border=\"1\" class=\"dataframe\">\n",
       "  <thead>\n",
       "    <tr style=\"text-align: right;\">\n",
       "      <th></th>\n",
       "      <th>isFirstVisit</th>\n",
       "      <th>totalVisits</th>\n",
       "      <th>totalPageviews</th>\n",
       "      <th>totalTimeOnSite</th>\n",
       "      <th>productPagesViewed</th>\n",
       "      <th>trafficMedium_(none)</th>\n",
       "      <th>trafficMedium_(not set)</th>\n",
       "      <th>trafficMedium_affiliate</th>\n",
       "      <th>trafficMedium_cpc</th>\n",
       "      <th>trafficMedium_cpm</th>\n",
       "      <th>trafficMedium_organic</th>\n",
       "      <th>trafficMedium_referral</th>\n",
       "    </tr>\n",
       "    <tr>\n",
       "      <th>fullVisitorId</th>\n",
       "      <th></th>\n",
       "      <th></th>\n",
       "      <th></th>\n",
       "      <th></th>\n",
       "      <th></th>\n",
       "      <th></th>\n",
       "      <th></th>\n",
       "      <th></th>\n",
       "      <th></th>\n",
       "      <th></th>\n",
       "      <th></th>\n",
       "      <th></th>\n",
       "    </tr>\n",
       "  </thead>\n",
       "  <tbody>\n",
       "    <tr>\n",
       "      <th>544832398751618920</th>\n",
       "      <td>0</td>\n",
       "      <td>1</td>\n",
       "      <td>1</td>\n",
       "      <td>0</td>\n",
       "      <td>0</td>\n",
       "      <td>1</td>\n",
       "      <td>0</td>\n",
       "      <td>0</td>\n",
       "      <td>0</td>\n",
       "      <td>0</td>\n",
       "      <td>0</td>\n",
       "      <td>0</td>\n",
       "    </tr>\n",
       "    <tr>\n",
       "      <th>8880704751501785711</th>\n",
       "      <td>1</td>\n",
       "      <td>1</td>\n",
       "      <td>1</td>\n",
       "      <td>0</td>\n",
       "      <td>0</td>\n",
       "      <td>0</td>\n",
       "      <td>0</td>\n",
       "      <td>0</td>\n",
       "      <td>0</td>\n",
       "      <td>0</td>\n",
       "      <td>1</td>\n",
       "      <td>0</td>\n",
       "    </tr>\n",
       "    <tr>\n",
       "      <th>375802158827085958</th>\n",
       "      <td>1</td>\n",
       "      <td>1</td>\n",
       "      <td>5</td>\n",
       "      <td>55</td>\n",
       "      <td>0</td>\n",
       "      <td>1</td>\n",
       "      <td>0</td>\n",
       "      <td>0</td>\n",
       "      <td>0</td>\n",
       "      <td>0</td>\n",
       "      <td>0</td>\n",
       "      <td>0</td>\n",
       "    </tr>\n",
       "    <tr>\n",
       "      <th>4848925389261824691</th>\n",
       "      <td>1</td>\n",
       "      <td>1</td>\n",
       "      <td>1</td>\n",
       "      <td>0</td>\n",
       "      <td>0</td>\n",
       "      <td>0</td>\n",
       "      <td>0</td>\n",
       "      <td>0</td>\n",
       "      <td>0</td>\n",
       "      <td>0</td>\n",
       "      <td>1</td>\n",
       "      <td>0</td>\n",
       "    </tr>\n",
       "    <tr>\n",
       "      <th>8847154039606347929</th>\n",
       "      <td>1</td>\n",
       "      <td>1</td>\n",
       "      <td>1</td>\n",
       "      <td>0</td>\n",
       "      <td>0</td>\n",
       "      <td>0</td>\n",
       "      <td>0</td>\n",
       "      <td>0</td>\n",
       "      <td>0</td>\n",
       "      <td>0</td>\n",
       "      <td>1</td>\n",
       "      <td>0</td>\n",
       "    </tr>\n",
       "    <tr>\n",
       "      <th>...</th>\n",
       "      <td>...</td>\n",
       "      <td>...</td>\n",
       "      <td>...</td>\n",
       "      <td>...</td>\n",
       "      <td>...</td>\n",
       "      <td>...</td>\n",
       "      <td>...</td>\n",
       "      <td>...</td>\n",
       "      <td>...</td>\n",
       "      <td>...</td>\n",
       "      <td>...</td>\n",
       "      <td>...</td>\n",
       "    </tr>\n",
       "    <tr>\n",
       "      <th>3039951433561491933</th>\n",
       "      <td>1</td>\n",
       "      <td>1</td>\n",
       "      <td>3</td>\n",
       "      <td>125</td>\n",
       "      <td>0</td>\n",
       "      <td>0</td>\n",
       "      <td>0</td>\n",
       "      <td>0</td>\n",
       "      <td>0</td>\n",
       "      <td>0</td>\n",
       "      <td>1</td>\n",
       "      <td>0</td>\n",
       "    </tr>\n",
       "    <tr>\n",
       "      <th>1451254335795424761</th>\n",
       "      <td>1</td>\n",
       "      <td>1</td>\n",
       "      <td>3</td>\n",
       "      <td>119</td>\n",
       "      <td>0</td>\n",
       "      <td>1</td>\n",
       "      <td>0</td>\n",
       "      <td>0</td>\n",
       "      <td>0</td>\n",
       "      <td>0</td>\n",
       "      <td>0</td>\n",
       "      <td>0</td>\n",
       "    </tr>\n",
       "    <tr>\n",
       "      <th>5125140299363465569</th>\n",
       "      <td>0</td>\n",
       "      <td>1</td>\n",
       "      <td>6</td>\n",
       "      <td>30</td>\n",
       "      <td>0</td>\n",
       "      <td>1</td>\n",
       "      <td>0</td>\n",
       "      <td>0</td>\n",
       "      <td>0</td>\n",
       "      <td>0</td>\n",
       "      <td>0</td>\n",
       "      <td>0</td>\n",
       "    </tr>\n",
       "    <tr>\n",
       "      <th>5356901769430312331</th>\n",
       "      <td>1</td>\n",
       "      <td>1</td>\n",
       "      <td>2</td>\n",
       "      <td>296</td>\n",
       "      <td>0</td>\n",
       "      <td>1</td>\n",
       "      <td>0</td>\n",
       "      <td>0</td>\n",
       "      <td>0</td>\n",
       "      <td>0</td>\n",
       "      <td>0</td>\n",
       "      <td>0</td>\n",
       "    </tr>\n",
       "    <tr>\n",
       "      <th>3746148995992292100</th>\n",
       "      <td>1</td>\n",
       "      <td>1</td>\n",
       "      <td>5</td>\n",
       "      <td>91</td>\n",
       "      <td>0</td>\n",
       "      <td>1</td>\n",
       "      <td>0</td>\n",
       "      <td>0</td>\n",
       "      <td>0</td>\n",
       "      <td>0</td>\n",
       "      <td>0</td>\n",
       "      <td>0</td>\n",
       "    </tr>\n",
       "  </tbody>\n",
       "</table>\n",
       "<p>137946 rows × 12 columns</p>\n",
       "</div>"
      ],
      "text/plain": [
       "                     isFirstVisit  ...  trafficMedium_referral\n",
       "fullVisitorId                      ...                        \n",
       "544832398751618920              0  ...                       0\n",
       "8880704751501785711             1  ...                       0\n",
       "375802158827085958              1  ...                       0\n",
       "4848925389261824691             1  ...                       0\n",
       "8847154039606347929             1  ...                       0\n",
       "...                           ...  ...                     ...\n",
       "3039951433561491933             1  ...                       0\n",
       "1451254335795424761             1  ...                       0\n",
       "5125140299363465569             0  ...                       0\n",
       "5356901769430312331             1  ...                       0\n",
       "3746148995992292100             1  ...                       0\n",
       "\n",
       "[137946 rows x 12 columns]"
      ]
     },
     "execution_count": 63,
     "metadata": {
      "tags": []
     },
     "output_type": "execute_result"
    }
   ],
   "source": [
    "df_test = df_test.sample(frac=1, random_state=42)\n",
    "df_test"
   ]
  },
  {
   "cell_type": "code",
   "execution_count": null,
   "metadata": {
    "id": "Ce24TKRiGNeQ"
   },
   "outputs": [],
   "source": [
    "fit = scaler.fit(df_test)\n",
    "test_X = fit.transform(df_test)"
   ]
  },
  {
   "cell_type": "code",
   "execution_count": null,
   "metadata": {
    "id": "Mvh0KkvIIHtl"
   },
   "outputs": [],
   "source": [
    "test_pred = svc.predict(test_X)"
   ]
  },
  {
   "cell_type": "code",
   "execution_count": null,
   "metadata": {
    "colab": {
     "base_uri": "https://localhost:8080/"
    },
    "executionInfo": {
     "elapsed": 1058,
     "status": "ok",
     "timestamp": 1608124802063,
     "user": {
      "displayName": "Maxwell Boafo",
      "photoUrl": "https://lh3.googleusercontent.com/a-/AOh14GjFVOcS-jtWoe8CJWMEz5Y71xRW550Mi7YtwlDijw=s64",
      "userId": "05496059639288395459"
     },
     "user_tz": -180
    },
    "id": "Z88vnz0eIpjc",
    "outputId": "3eef3861-9bbf-4212-86b3-25b1800672a5"
   },
   "outputs": [
    {
     "data": {
      "text/plain": [
       "1    127148\n",
       "0     10798\n",
       "dtype: int64"
      ]
     },
     "execution_count": 66,
     "metadata": {
      "tags": []
     },
     "output_type": "execute_result"
    }
   ],
   "source": [
    "pd.Series(test_pred).value_counts()"
   ]
  },
  {
   "cell_type": "code",
   "execution_count": null,
   "metadata": {
    "colab": {
     "base_uri": "https://localhost:8080/",
     "height": 468
    },
    "executionInfo": {
     "elapsed": 707,
     "status": "ok",
     "timestamp": 1608124807231,
     "user": {
      "displayName": "Maxwell Boafo",
      "photoUrl": "https://lh3.googleusercontent.com/a-/AOh14GjFVOcS-jtWoe8CJWMEz5Y71xRW550Mi7YtwlDijw=s64",
      "userId": "05496059639288395459"
     },
     "user_tz": -180
    },
    "id": "T1xtTG2NMUWV",
    "outputId": "6adf2c7c-49e5-4572-dbc4-b7134300a8c5"
   },
   "outputs": [
    {
     "data": {
      "text/html": [
       "<div>\n",
       "<style scoped>\n",
       "    .dataframe tbody tr th:only-of-type {\n",
       "        vertical-align: middle;\n",
       "    }\n",
       "\n",
       "    .dataframe tbody tr th {\n",
       "        vertical-align: top;\n",
       "    }\n",
       "\n",
       "    .dataframe thead th {\n",
       "        text-align: right;\n",
       "    }\n",
       "</style>\n",
       "<table border=\"1\" class=\"dataframe\">\n",
       "  <thead>\n",
       "    <tr style=\"text-align: right;\">\n",
       "      <th></th>\n",
       "      <th>isFirstVisit</th>\n",
       "      <th>totalVisits</th>\n",
       "      <th>totalPageviews</th>\n",
       "      <th>totalTimeOnSite</th>\n",
       "      <th>productPagesViewed</th>\n",
       "      <th>trafficMedium_(none)</th>\n",
       "      <th>trafficMedium_(not set)</th>\n",
       "      <th>trafficMedium_affiliate</th>\n",
       "      <th>trafficMedium_cpc</th>\n",
       "      <th>trafficMedium_cpm</th>\n",
       "      <th>trafficMedium_organic</th>\n",
       "      <th>trafficMedium_referral</th>\n",
       "      <th>addedToCart</th>\n",
       "    </tr>\n",
       "    <tr>\n",
       "      <th>fullVisitorId</th>\n",
       "      <th></th>\n",
       "      <th></th>\n",
       "      <th></th>\n",
       "      <th></th>\n",
       "      <th></th>\n",
       "      <th></th>\n",
       "      <th></th>\n",
       "      <th></th>\n",
       "      <th></th>\n",
       "      <th></th>\n",
       "      <th></th>\n",
       "      <th></th>\n",
       "      <th></th>\n",
       "    </tr>\n",
       "  </thead>\n",
       "  <tbody>\n",
       "    <tr>\n",
       "      <th>544832398751618920</th>\n",
       "      <td>0</td>\n",
       "      <td>1</td>\n",
       "      <td>1</td>\n",
       "      <td>0</td>\n",
       "      <td>0</td>\n",
       "      <td>1</td>\n",
       "      <td>0</td>\n",
       "      <td>0</td>\n",
       "      <td>0</td>\n",
       "      <td>0</td>\n",
       "      <td>0</td>\n",
       "      <td>0</td>\n",
       "      <td>1</td>\n",
       "    </tr>\n",
       "    <tr>\n",
       "      <th>8880704751501785711</th>\n",
       "      <td>1</td>\n",
       "      <td>1</td>\n",
       "      <td>1</td>\n",
       "      <td>0</td>\n",
       "      <td>0</td>\n",
       "      <td>0</td>\n",
       "      <td>0</td>\n",
       "      <td>0</td>\n",
       "      <td>0</td>\n",
       "      <td>0</td>\n",
       "      <td>1</td>\n",
       "      <td>0</td>\n",
       "      <td>1</td>\n",
       "    </tr>\n",
       "    <tr>\n",
       "      <th>375802158827085958</th>\n",
       "      <td>1</td>\n",
       "      <td>1</td>\n",
       "      <td>5</td>\n",
       "      <td>55</td>\n",
       "      <td>0</td>\n",
       "      <td>1</td>\n",
       "      <td>0</td>\n",
       "      <td>0</td>\n",
       "      <td>0</td>\n",
       "      <td>0</td>\n",
       "      <td>0</td>\n",
       "      <td>0</td>\n",
       "      <td>1</td>\n",
       "    </tr>\n",
       "    <tr>\n",
       "      <th>4848925389261824691</th>\n",
       "      <td>1</td>\n",
       "      <td>1</td>\n",
       "      <td>1</td>\n",
       "      <td>0</td>\n",
       "      <td>0</td>\n",
       "      <td>0</td>\n",
       "      <td>0</td>\n",
       "      <td>0</td>\n",
       "      <td>0</td>\n",
       "      <td>0</td>\n",
       "      <td>1</td>\n",
       "      <td>0</td>\n",
       "      <td>1</td>\n",
       "    </tr>\n",
       "    <tr>\n",
       "      <th>8847154039606347929</th>\n",
       "      <td>1</td>\n",
       "      <td>1</td>\n",
       "      <td>1</td>\n",
       "      <td>0</td>\n",
       "      <td>0</td>\n",
       "      <td>0</td>\n",
       "      <td>0</td>\n",
       "      <td>0</td>\n",
       "      <td>0</td>\n",
       "      <td>0</td>\n",
       "      <td>1</td>\n",
       "      <td>0</td>\n",
       "      <td>1</td>\n",
       "    </tr>\n",
       "    <tr>\n",
       "      <th>...</th>\n",
       "      <td>...</td>\n",
       "      <td>...</td>\n",
       "      <td>...</td>\n",
       "      <td>...</td>\n",
       "      <td>...</td>\n",
       "      <td>...</td>\n",
       "      <td>...</td>\n",
       "      <td>...</td>\n",
       "      <td>...</td>\n",
       "      <td>...</td>\n",
       "      <td>...</td>\n",
       "      <td>...</td>\n",
       "      <td>...</td>\n",
       "    </tr>\n",
       "    <tr>\n",
       "      <th>3039951433561491933</th>\n",
       "      <td>1</td>\n",
       "      <td>1</td>\n",
       "      <td>3</td>\n",
       "      <td>125</td>\n",
       "      <td>0</td>\n",
       "      <td>0</td>\n",
       "      <td>0</td>\n",
       "      <td>0</td>\n",
       "      <td>0</td>\n",
       "      <td>0</td>\n",
       "      <td>1</td>\n",
       "      <td>0</td>\n",
       "      <td>1</td>\n",
       "    </tr>\n",
       "    <tr>\n",
       "      <th>1451254335795424761</th>\n",
       "      <td>1</td>\n",
       "      <td>1</td>\n",
       "      <td>3</td>\n",
       "      <td>119</td>\n",
       "      <td>0</td>\n",
       "      <td>1</td>\n",
       "      <td>0</td>\n",
       "      <td>0</td>\n",
       "      <td>0</td>\n",
       "      <td>0</td>\n",
       "      <td>0</td>\n",
       "      <td>0</td>\n",
       "      <td>1</td>\n",
       "    </tr>\n",
       "    <tr>\n",
       "      <th>5125140299363465569</th>\n",
       "      <td>0</td>\n",
       "      <td>1</td>\n",
       "      <td>6</td>\n",
       "      <td>30</td>\n",
       "      <td>0</td>\n",
       "      <td>1</td>\n",
       "      <td>0</td>\n",
       "      <td>0</td>\n",
       "      <td>0</td>\n",
       "      <td>0</td>\n",
       "      <td>0</td>\n",
       "      <td>0</td>\n",
       "      <td>1</td>\n",
       "    </tr>\n",
       "    <tr>\n",
       "      <th>5356901769430312331</th>\n",
       "      <td>1</td>\n",
       "      <td>1</td>\n",
       "      <td>2</td>\n",
       "      <td>296</td>\n",
       "      <td>0</td>\n",
       "      <td>1</td>\n",
       "      <td>0</td>\n",
       "      <td>0</td>\n",
       "      <td>0</td>\n",
       "      <td>0</td>\n",
       "      <td>0</td>\n",
       "      <td>0</td>\n",
       "      <td>1</td>\n",
       "    </tr>\n",
       "    <tr>\n",
       "      <th>3746148995992292100</th>\n",
       "      <td>1</td>\n",
       "      <td>1</td>\n",
       "      <td>5</td>\n",
       "      <td>91</td>\n",
       "      <td>0</td>\n",
       "      <td>1</td>\n",
       "      <td>0</td>\n",
       "      <td>0</td>\n",
       "      <td>0</td>\n",
       "      <td>0</td>\n",
       "      <td>0</td>\n",
       "      <td>0</td>\n",
       "      <td>1</td>\n",
       "    </tr>\n",
       "  </tbody>\n",
       "</table>\n",
       "<p>137946 rows × 13 columns</p>\n",
       "</div>"
      ],
      "text/plain": [
       "                     isFirstVisit  ...  addedToCart\n",
       "fullVisitorId                      ...             \n",
       "544832398751618920              0  ...            1\n",
       "8880704751501785711             1  ...            1\n",
       "375802158827085958              1  ...            1\n",
       "4848925389261824691             1  ...            1\n",
       "8847154039606347929             1  ...            1\n",
       "...                           ...  ...          ...\n",
       "3039951433561491933             1  ...            1\n",
       "1451254335795424761             1  ...            1\n",
       "5125140299363465569             0  ...            1\n",
       "5356901769430312331             1  ...            1\n",
       "3746148995992292100             1  ...            1\n",
       "\n",
       "[137946 rows x 13 columns]"
      ]
     },
     "execution_count": 67,
     "metadata": {
      "tags": []
     },
     "output_type": "execute_result"
    }
   ],
   "source": [
    "df_test['addedToCart'] = test_pred\n",
    "df_test"
   ]
  },
  {
   "cell_type": "code",
   "execution_count": null,
   "metadata": {
    "colab": {
     "base_uri": "https://localhost:8080/",
     "height": 438
    },
    "executionInfo": {
     "elapsed": 935,
     "status": "ok",
     "timestamp": 1608124812419,
     "user": {
      "displayName": "Maxwell Boafo",
      "photoUrl": "https://lh3.googleusercontent.com/a-/AOh14GjFVOcS-jtWoe8CJWMEz5Y71xRW550Mi7YtwlDijw=s64",
      "userId": "05496059639288395459"
     },
     "user_tz": -180
    },
    "id": "dbcfqqJoOddV",
    "outputId": "4d95bb65-93f3-4cef-8fa7-3a6b4493b754"
   },
   "outputs": [
    {
     "data": {
      "text/html": [
       "<div>\n",
       "<style scoped>\n",
       "    .dataframe tbody tr th:only-of-type {\n",
       "        vertical-align: middle;\n",
       "    }\n",
       "\n",
       "    .dataframe tbody tr th {\n",
       "        vertical-align: top;\n",
       "    }\n",
       "\n",
       "    .dataframe thead th {\n",
       "        text-align: right;\n",
       "    }\n",
       "</style>\n",
       "<table border=\"1\" class=\"dataframe\">\n",
       "  <thead>\n",
       "    <tr style=\"text-align: right;\">\n",
       "      <th></th>\n",
       "      <th>fullVisitorId</th>\n",
       "      <th>isFirstVisit</th>\n",
       "      <th>totalVisits</th>\n",
       "      <th>totalPageviews</th>\n",
       "      <th>totalTimeOnSite</th>\n",
       "      <th>productPagesViewed</th>\n",
       "      <th>trafficMedium_(none)</th>\n",
       "      <th>trafficMedium_(not set)</th>\n",
       "      <th>trafficMedium_affiliate</th>\n",
       "      <th>trafficMedium_cpc</th>\n",
       "      <th>trafficMedium_cpm</th>\n",
       "      <th>trafficMedium_organic</th>\n",
       "      <th>trafficMedium_referral</th>\n",
       "      <th>addedToCart</th>\n",
       "    </tr>\n",
       "  </thead>\n",
       "  <tbody>\n",
       "    <tr>\n",
       "      <th>0</th>\n",
       "      <td>544832398751618920</td>\n",
       "      <td>0</td>\n",
       "      <td>1</td>\n",
       "      <td>1</td>\n",
       "      <td>0</td>\n",
       "      <td>0</td>\n",
       "      <td>1</td>\n",
       "      <td>0</td>\n",
       "      <td>0</td>\n",
       "      <td>0</td>\n",
       "      <td>0</td>\n",
       "      <td>0</td>\n",
       "      <td>0</td>\n",
       "      <td>1</td>\n",
       "    </tr>\n",
       "    <tr>\n",
       "      <th>1</th>\n",
       "      <td>8880704751501785711</td>\n",
       "      <td>1</td>\n",
       "      <td>1</td>\n",
       "      <td>1</td>\n",
       "      <td>0</td>\n",
       "      <td>0</td>\n",
       "      <td>0</td>\n",
       "      <td>0</td>\n",
       "      <td>0</td>\n",
       "      <td>0</td>\n",
       "      <td>0</td>\n",
       "      <td>1</td>\n",
       "      <td>0</td>\n",
       "      <td>1</td>\n",
       "    </tr>\n",
       "    <tr>\n",
       "      <th>2</th>\n",
       "      <td>375802158827085958</td>\n",
       "      <td>1</td>\n",
       "      <td>1</td>\n",
       "      <td>5</td>\n",
       "      <td>55</td>\n",
       "      <td>0</td>\n",
       "      <td>1</td>\n",
       "      <td>0</td>\n",
       "      <td>0</td>\n",
       "      <td>0</td>\n",
       "      <td>0</td>\n",
       "      <td>0</td>\n",
       "      <td>0</td>\n",
       "      <td>1</td>\n",
       "    </tr>\n",
       "    <tr>\n",
       "      <th>3</th>\n",
       "      <td>4848925389261824691</td>\n",
       "      <td>1</td>\n",
       "      <td>1</td>\n",
       "      <td>1</td>\n",
       "      <td>0</td>\n",
       "      <td>0</td>\n",
       "      <td>0</td>\n",
       "      <td>0</td>\n",
       "      <td>0</td>\n",
       "      <td>0</td>\n",
       "      <td>0</td>\n",
       "      <td>1</td>\n",
       "      <td>0</td>\n",
       "      <td>1</td>\n",
       "    </tr>\n",
       "    <tr>\n",
       "      <th>4</th>\n",
       "      <td>8847154039606347929</td>\n",
       "      <td>1</td>\n",
       "      <td>1</td>\n",
       "      <td>1</td>\n",
       "      <td>0</td>\n",
       "      <td>0</td>\n",
       "      <td>0</td>\n",
       "      <td>0</td>\n",
       "      <td>0</td>\n",
       "      <td>0</td>\n",
       "      <td>0</td>\n",
       "      <td>1</td>\n",
       "      <td>0</td>\n",
       "      <td>1</td>\n",
       "    </tr>\n",
       "    <tr>\n",
       "      <th>...</th>\n",
       "      <td>...</td>\n",
       "      <td>...</td>\n",
       "      <td>...</td>\n",
       "      <td>...</td>\n",
       "      <td>...</td>\n",
       "      <td>...</td>\n",
       "      <td>...</td>\n",
       "      <td>...</td>\n",
       "      <td>...</td>\n",
       "      <td>...</td>\n",
       "      <td>...</td>\n",
       "      <td>...</td>\n",
       "      <td>...</td>\n",
       "      <td>...</td>\n",
       "    </tr>\n",
       "    <tr>\n",
       "      <th>137941</th>\n",
       "      <td>3039951433561491933</td>\n",
       "      <td>1</td>\n",
       "      <td>1</td>\n",
       "      <td>3</td>\n",
       "      <td>125</td>\n",
       "      <td>0</td>\n",
       "      <td>0</td>\n",
       "      <td>0</td>\n",
       "      <td>0</td>\n",
       "      <td>0</td>\n",
       "      <td>0</td>\n",
       "      <td>1</td>\n",
       "      <td>0</td>\n",
       "      <td>1</td>\n",
       "    </tr>\n",
       "    <tr>\n",
       "      <th>137942</th>\n",
       "      <td>1451254335795424761</td>\n",
       "      <td>1</td>\n",
       "      <td>1</td>\n",
       "      <td>3</td>\n",
       "      <td>119</td>\n",
       "      <td>0</td>\n",
       "      <td>1</td>\n",
       "      <td>0</td>\n",
       "      <td>0</td>\n",
       "      <td>0</td>\n",
       "      <td>0</td>\n",
       "      <td>0</td>\n",
       "      <td>0</td>\n",
       "      <td>1</td>\n",
       "    </tr>\n",
       "    <tr>\n",
       "      <th>137943</th>\n",
       "      <td>5125140299363465569</td>\n",
       "      <td>0</td>\n",
       "      <td>1</td>\n",
       "      <td>6</td>\n",
       "      <td>30</td>\n",
       "      <td>0</td>\n",
       "      <td>1</td>\n",
       "      <td>0</td>\n",
       "      <td>0</td>\n",
       "      <td>0</td>\n",
       "      <td>0</td>\n",
       "      <td>0</td>\n",
       "      <td>0</td>\n",
       "      <td>1</td>\n",
       "    </tr>\n",
       "    <tr>\n",
       "      <th>137944</th>\n",
       "      <td>5356901769430312331</td>\n",
       "      <td>1</td>\n",
       "      <td>1</td>\n",
       "      <td>2</td>\n",
       "      <td>296</td>\n",
       "      <td>0</td>\n",
       "      <td>1</td>\n",
       "      <td>0</td>\n",
       "      <td>0</td>\n",
       "      <td>0</td>\n",
       "      <td>0</td>\n",
       "      <td>0</td>\n",
       "      <td>0</td>\n",
       "      <td>1</td>\n",
       "    </tr>\n",
       "    <tr>\n",
       "      <th>137945</th>\n",
       "      <td>3746148995992292100</td>\n",
       "      <td>1</td>\n",
       "      <td>1</td>\n",
       "      <td>5</td>\n",
       "      <td>91</td>\n",
       "      <td>0</td>\n",
       "      <td>1</td>\n",
       "      <td>0</td>\n",
       "      <td>0</td>\n",
       "      <td>0</td>\n",
       "      <td>0</td>\n",
       "      <td>0</td>\n",
       "      <td>0</td>\n",
       "      <td>1</td>\n",
       "    </tr>\n",
       "  </tbody>\n",
       "</table>\n",
       "<p>137946 rows × 14 columns</p>\n",
       "</div>"
      ],
      "text/plain": [
       "              fullVisitorId  isFirstVisit  ...  trafficMedium_referral  addedToCart\n",
       "0        544832398751618920             0  ...                       0            1\n",
       "1       8880704751501785711             1  ...                       0            1\n",
       "2        375802158827085958             1  ...                       0            1\n",
       "3       4848925389261824691             1  ...                       0            1\n",
       "4       8847154039606347929             1  ...                       0            1\n",
       "...                     ...           ...  ...                     ...          ...\n",
       "137941  3039951433561491933             1  ...                       0            1\n",
       "137942  1451254335795424761             1  ...                       0            1\n",
       "137943  5125140299363465569             0  ...                       0            1\n",
       "137944  5356901769430312331             1  ...                       0            1\n",
       "137945  3746148995992292100             1  ...                       0            1\n",
       "\n",
       "[137946 rows x 14 columns]"
      ]
     },
     "execution_count": 68,
     "metadata": {
      "tags": []
     },
     "output_type": "execute_result"
    }
   ],
   "source": [
    "df_test.reset_index(inplace=True)\n",
    "df_test"
   ]
  },
  {
   "cell_type": "code",
   "execution_count": null,
   "metadata": {
    "colab": {
     "base_uri": "https://localhost:8080/",
     "height": 402
    },
    "executionInfo": {
     "elapsed": 726,
     "status": "ok",
     "timestamp": 1608124818097,
     "user": {
      "displayName": "Maxwell Boafo",
      "photoUrl": "https://lh3.googleusercontent.com/a-/AOh14GjFVOcS-jtWoe8CJWMEz5Y71xRW550Mi7YtwlDijw=s64",
      "userId": "05496059639288395459"
     },
     "user_tz": -180
    },
    "id": "XGKNQVC1OlMg",
    "outputId": "b51c41c7-52e9-4f42-9dbd-d3685623d018"
   },
   "outputs": [
    {
     "data": {
      "text/html": [
       "<div>\n",
       "<style scoped>\n",
       "    .dataframe tbody tr th:only-of-type {\n",
       "        vertical-align: middle;\n",
       "    }\n",
       "\n",
       "    .dataframe tbody tr th {\n",
       "        vertical-align: top;\n",
       "    }\n",
       "\n",
       "    .dataframe thead th {\n",
       "        text-align: right;\n",
       "    }\n",
       "</style>\n",
       "<table border=\"1\" class=\"dataframe\">\n",
       "  <thead>\n",
       "    <tr style=\"text-align: right;\">\n",
       "      <th></th>\n",
       "      <th>fullVisitorId</th>\n",
       "      <th>addedToCart</th>\n",
       "    </tr>\n",
       "  </thead>\n",
       "  <tbody>\n",
       "    <tr>\n",
       "      <th>0</th>\n",
       "      <td>544832398751618920</td>\n",
       "      <td>1</td>\n",
       "    </tr>\n",
       "    <tr>\n",
       "      <th>1</th>\n",
       "      <td>8880704751501785711</td>\n",
       "      <td>1</td>\n",
       "    </tr>\n",
       "    <tr>\n",
       "      <th>2</th>\n",
       "      <td>375802158827085958</td>\n",
       "      <td>1</td>\n",
       "    </tr>\n",
       "    <tr>\n",
       "      <th>3</th>\n",
       "      <td>4848925389261824691</td>\n",
       "      <td>1</td>\n",
       "    </tr>\n",
       "    <tr>\n",
       "      <th>4</th>\n",
       "      <td>8847154039606347929</td>\n",
       "      <td>1</td>\n",
       "    </tr>\n",
       "    <tr>\n",
       "      <th>...</th>\n",
       "      <td>...</td>\n",
       "      <td>...</td>\n",
       "    </tr>\n",
       "    <tr>\n",
       "      <th>137941</th>\n",
       "      <td>3039951433561491933</td>\n",
       "      <td>1</td>\n",
       "    </tr>\n",
       "    <tr>\n",
       "      <th>137942</th>\n",
       "      <td>1451254335795424761</td>\n",
       "      <td>1</td>\n",
       "    </tr>\n",
       "    <tr>\n",
       "      <th>137943</th>\n",
       "      <td>5125140299363465569</td>\n",
       "      <td>1</td>\n",
       "    </tr>\n",
       "    <tr>\n",
       "      <th>137944</th>\n",
       "      <td>5356901769430312331</td>\n",
       "      <td>1</td>\n",
       "    </tr>\n",
       "    <tr>\n",
       "      <th>137945</th>\n",
       "      <td>3746148995992292100</td>\n",
       "      <td>1</td>\n",
       "    </tr>\n",
       "  </tbody>\n",
       "</table>\n",
       "<p>137946 rows × 2 columns</p>\n",
       "</div>"
      ],
      "text/plain": [
       "              fullVisitorId  addedToCart\n",
       "0        544832398751618920            1\n",
       "1       8880704751501785711            1\n",
       "2        375802158827085958            1\n",
       "3       4848925389261824691            1\n",
       "4       8847154039606347929            1\n",
       "...                     ...          ...\n",
       "137941  3039951433561491933            1\n",
       "137942  1451254335795424761            1\n",
       "137943  5125140299363465569            1\n",
       "137944  5356901769430312331            1\n",
       "137945  3746148995992292100            1\n",
       "\n",
       "[137946 rows x 2 columns]"
      ]
     },
     "execution_count": 69,
     "metadata": {
      "tags": []
     },
     "output_type": "execute_result"
    }
   ],
   "source": [
    "df_predictions = df_test[['fullVisitorId', 'addedToCart']]\n",
    "df_predictions"
   ]
  },
  {
   "cell_type": "code",
   "execution_count": null,
   "metadata": {
    "id": "T-Cr8uVHPYAg"
   },
   "outputs": [],
   "source": [
    "df_predictions.to_csv('predictions.csv')"
   ]
  }
 ],
 "metadata": {
  "colab": {
   "collapsed_sections": [],
   "name": "Purchasing rates prediction.ipynb",
   "provenance": []
  },
  "kernelspec": {
   "display_name": "Python 3",
   "language": "python",
   "name": "python3"
  },
  "language_info": {
   "codemirror_mode": {
    "name": "ipython",
    "version": 3
   },
   "file_extension": ".py",
   "mimetype": "text/x-python",
   "name": "python",
   "nbconvert_exporter": "python",
   "pygments_lexer": "ipython3",
   "version": "3.8.5"
  }
 },
 "nbformat": 4,
 "nbformat_minor": 1
}
